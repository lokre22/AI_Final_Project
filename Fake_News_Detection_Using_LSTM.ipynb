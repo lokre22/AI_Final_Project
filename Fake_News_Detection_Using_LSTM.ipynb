{
  "nbformat": 4,
  "nbformat_minor": 0,
  "metadata": {
    "colab": {
      "provenance": [],
      "include_colab_link": true
    },
    "kernelspec": {
      "name": "python3",
      "display_name": "Python 3"
    },
    "language_info": {
      "name": "python"
    }
  },
  "cells": [
    {
      "cell_type": "markdown",
      "metadata": {
        "id": "view-in-github",
        "colab_type": "text"
      },
      "source": [
        "<a href=\"https://colab.research.google.com/github/lokre22/AI_Final_Project/blob/main/Fake_News_Detection_Using_LSTM.ipynb\" target=\"_parent\"><img src=\"https://colab.research.google.com/assets/colab-badge.svg\" alt=\"Open In Colab\"/></a>"
      ]
    },
    {
      "cell_type": "code",
      "execution_count": null,
      "metadata": {
        "id": "gwbivR3YQZx0"
      },
      "outputs": [],
      "source": [
        "import numpy as np\n",
        "import pandas as pd\n",
        "import seaborn as sns \n",
        "import nltk\n",
        "import matplotlib.pyplot as plt\n",
        "import re\n",
        "from wordcloud import WordCloud"
      ]
    },
    {
      "cell_type": "code",
      "source": [
        "from tensorflow.keras.preprocessing.text import Tokenizer\n",
        "from tensorflow.keras.preprocessing.sequence import pad_sequences\n",
        "from tensorflow.keras.models import Sequential\n",
        "from tensorflow.keras.layers import Dense, Embedding, LSTM, Conv1D, MaxPool1D\n",
        "from sklearn.model_selection import train_test_split\n",
        "from sklearn.metrics import classification_report, accuracy_score"
      ],
      "metadata": {
        "id": "1kdWHvOQRqe7"
      },
      "execution_count": null,
      "outputs": []
    },
    {
      "cell_type": "code",
      "source": [
        "fake = pd.read_csv('Fake.csv')"
      ],
      "metadata": {
        "id": "tJU2a_fqS4Ws"
      },
      "execution_count": null,
      "outputs": []
    },
    {
      "cell_type": "code",
      "source": [
        "fake.head()"
      ],
      "metadata": {
        "colab": {
          "base_uri": "https://localhost:8080/",
          "height": 337
        },
        "id": "v06XSWQbWDzr",
        "outputId": "07773325-5868-4052-e003-4ea4f8a0c1f2"
      },
      "execution_count": null,
      "outputs": [
        {
          "output_type": "execute_result",
          "data": {
            "text/plain": [
              "                                               title  \\\n",
              "0   Donald Trump Sends Out Embarrassing New Year’...   \n",
              "1   Drunk Bragging Trump Staffer Started Russian ...   \n",
              "2   Sheriff David Clarke Becomes An Internet Joke...   \n",
              "3   Trump Is So Obsessed He Even Has Obama’s Name...   \n",
              "4   Pope Francis Just Called Out Donald Trump Dur...   \n",
              "\n",
              "                                                text subject  \\\n",
              "0  Donald Trump just couldn t wish all Americans ...    News   \n",
              "1  House Intelligence Committee Chairman Devin Nu...    News   \n",
              "2  On Friday, it was revealed that former Milwauk...    News   \n",
              "3  On Christmas day, Donald Trump announced that ...    News   \n",
              "4  Pope Francis used his annual Christmas Day mes...    News   \n",
              "\n",
              "                date  \n",
              "0  December 31, 2017  \n",
              "1  December 31, 2017  \n",
              "2  December 30, 2017  \n",
              "3  December 29, 2017  \n",
              "4  December 25, 2017  "
            ],
            "text/html": [
              "\n",
              "  <div id=\"df-85d26304-75ac-4d39-98b6-00cde658135f\">\n",
              "    <div class=\"colab-df-container\">\n",
              "      <div>\n",
              "<style scoped>\n",
              "    .dataframe tbody tr th:only-of-type {\n",
              "        vertical-align: middle;\n",
              "    }\n",
              "\n",
              "    .dataframe tbody tr th {\n",
              "        vertical-align: top;\n",
              "    }\n",
              "\n",
              "    .dataframe thead th {\n",
              "        text-align: right;\n",
              "    }\n",
              "</style>\n",
              "<table border=\"1\" class=\"dataframe\">\n",
              "  <thead>\n",
              "    <tr style=\"text-align: right;\">\n",
              "      <th></th>\n",
              "      <th>title</th>\n",
              "      <th>text</th>\n",
              "      <th>subject</th>\n",
              "      <th>date</th>\n",
              "    </tr>\n",
              "  </thead>\n",
              "  <tbody>\n",
              "    <tr>\n",
              "      <th>0</th>\n",
              "      <td>Donald Trump Sends Out Embarrassing New Year’...</td>\n",
              "      <td>Donald Trump just couldn t wish all Americans ...</td>\n",
              "      <td>News</td>\n",
              "      <td>December 31, 2017</td>\n",
              "    </tr>\n",
              "    <tr>\n",
              "      <th>1</th>\n",
              "      <td>Drunk Bragging Trump Staffer Started Russian ...</td>\n",
              "      <td>House Intelligence Committee Chairman Devin Nu...</td>\n",
              "      <td>News</td>\n",
              "      <td>December 31, 2017</td>\n",
              "    </tr>\n",
              "    <tr>\n",
              "      <th>2</th>\n",
              "      <td>Sheriff David Clarke Becomes An Internet Joke...</td>\n",
              "      <td>On Friday, it was revealed that former Milwauk...</td>\n",
              "      <td>News</td>\n",
              "      <td>December 30, 2017</td>\n",
              "    </tr>\n",
              "    <tr>\n",
              "      <th>3</th>\n",
              "      <td>Trump Is So Obsessed He Even Has Obama’s Name...</td>\n",
              "      <td>On Christmas day, Donald Trump announced that ...</td>\n",
              "      <td>News</td>\n",
              "      <td>December 29, 2017</td>\n",
              "    </tr>\n",
              "    <tr>\n",
              "      <th>4</th>\n",
              "      <td>Pope Francis Just Called Out Donald Trump Dur...</td>\n",
              "      <td>Pope Francis used his annual Christmas Day mes...</td>\n",
              "      <td>News</td>\n",
              "      <td>December 25, 2017</td>\n",
              "    </tr>\n",
              "  </tbody>\n",
              "</table>\n",
              "</div>\n",
              "      <button class=\"colab-df-convert\" onclick=\"convertToInteractive('df-85d26304-75ac-4d39-98b6-00cde658135f')\"\n",
              "              title=\"Convert this dataframe to an interactive table.\"\n",
              "              style=\"display:none;\">\n",
              "        \n",
              "  <svg xmlns=\"http://www.w3.org/2000/svg\" height=\"24px\"viewBox=\"0 0 24 24\"\n",
              "       width=\"24px\">\n",
              "    <path d=\"M0 0h24v24H0V0z\" fill=\"none\"/>\n",
              "    <path d=\"M18.56 5.44l.94 2.06.94-2.06 2.06-.94-2.06-.94-.94-2.06-.94 2.06-2.06.94zm-11 1L8.5 8.5l.94-2.06 2.06-.94-2.06-.94L8.5 2.5l-.94 2.06-2.06.94zm10 10l.94 2.06.94-2.06 2.06-.94-2.06-.94-.94-2.06-.94 2.06-2.06.94z\"/><path d=\"M17.41 7.96l-1.37-1.37c-.4-.4-.92-.59-1.43-.59-.52 0-1.04.2-1.43.59L10.3 9.45l-7.72 7.72c-.78.78-.78 2.05 0 2.83L4 21.41c.39.39.9.59 1.41.59.51 0 1.02-.2 1.41-.59l7.78-7.78 2.81-2.81c.8-.78.8-2.07 0-2.86zM5.41 20L4 18.59l7.72-7.72 1.47 1.35L5.41 20z\"/>\n",
              "  </svg>\n",
              "      </button>\n",
              "      \n",
              "  <style>\n",
              "    .colab-df-container {\n",
              "      display:flex;\n",
              "      flex-wrap:wrap;\n",
              "      gap: 12px;\n",
              "    }\n",
              "\n",
              "    .colab-df-convert {\n",
              "      background-color: #E8F0FE;\n",
              "      border: none;\n",
              "      border-radius: 50%;\n",
              "      cursor: pointer;\n",
              "      display: none;\n",
              "      fill: #1967D2;\n",
              "      height: 32px;\n",
              "      padding: 0 0 0 0;\n",
              "      width: 32px;\n",
              "    }\n",
              "\n",
              "    .colab-df-convert:hover {\n",
              "      background-color: #E2EBFA;\n",
              "      box-shadow: 0px 1px 2px rgba(60, 64, 67, 0.3), 0px 1px 3px 1px rgba(60, 64, 67, 0.15);\n",
              "      fill: #174EA6;\n",
              "    }\n",
              "\n",
              "    [theme=dark] .colab-df-convert {\n",
              "      background-color: #3B4455;\n",
              "      fill: #D2E3FC;\n",
              "    }\n",
              "\n",
              "    [theme=dark] .colab-df-convert:hover {\n",
              "      background-color: #434B5C;\n",
              "      box-shadow: 0px 1px 3px 1px rgba(0, 0, 0, 0.15);\n",
              "      filter: drop-shadow(0px 1px 2px rgba(0, 0, 0, 0.3));\n",
              "      fill: #FFFFFF;\n",
              "    }\n",
              "  </style>\n",
              "\n",
              "      <script>\n",
              "        const buttonEl =\n",
              "          document.querySelector('#df-85d26304-75ac-4d39-98b6-00cde658135f button.colab-df-convert');\n",
              "        buttonEl.style.display =\n",
              "          google.colab.kernel.accessAllowed ? 'block' : 'none';\n",
              "\n",
              "        async function convertToInteractive(key) {\n",
              "          const element = document.querySelector('#df-85d26304-75ac-4d39-98b6-00cde658135f');\n",
              "          const dataTable =\n",
              "            await google.colab.kernel.invokeFunction('convertToInteractive',\n",
              "                                                     [key], {});\n",
              "          if (!dataTable) return;\n",
              "\n",
              "          const docLinkHtml = 'Like what you see? Visit the ' +\n",
              "            '<a target=\"_blank\" href=https://colab.research.google.com/notebooks/data_table.ipynb>data table notebook</a>'\n",
              "            + ' to learn more about interactive tables.';\n",
              "          element.innerHTML = '';\n",
              "          dataTable['output_type'] = 'display_data';\n",
              "          await google.colab.output.renderOutput(dataTable, element);\n",
              "          const docLink = document.createElement('div');\n",
              "          docLink.innerHTML = docLinkHtml;\n",
              "          element.appendChild(docLink);\n",
              "        }\n",
              "      </script>\n",
              "    </div>\n",
              "  </div>\n",
              "  "
            ]
          },
          "metadata": {},
          "execution_count": 144
        }
      ]
    },
    {
      "cell_type": "code",
      "source": [
        "true = pd.read_csv('True.csv')"
      ],
      "metadata": {
        "id": "eHp_auNDiYjR"
      },
      "execution_count": null,
      "outputs": []
    },
    {
      "cell_type": "code",
      "source": [
        "true.head()"
      ],
      "metadata": {
        "colab": {
          "base_uri": "https://localhost:8080/",
          "height": 337
        },
        "id": "8T_0y-BoiY7E",
        "outputId": "0563d5d0-d29b-46a2-8c6d-dd910ca6ef8a"
      },
      "execution_count": null,
      "outputs": [
        {
          "output_type": "execute_result",
          "data": {
            "text/plain": [
              "                                               title  \\\n",
              "0  As U.S. budget fight looms, Republicans flip t...   \n",
              "1  U.S. military to accept transgender recruits o...   \n",
              "2  Senior U.S. Republican senator: 'Let Mr. Muell...   \n",
              "3  FBI Russia probe helped by Australian diplomat...   \n",
              "4  Trump wants Postal Service to charge 'much mor...   \n",
              "\n",
              "                                                text       subject  \\\n",
              "0  WASHINGTON (Reuters) - The head of a conservat...  politicsNews   \n",
              "1  WASHINGTON (Reuters) - Transgender people will...  politicsNews   \n",
              "2  WASHINGTON (Reuters) - The special counsel inv...  politicsNews   \n",
              "3  WASHINGTON (Reuters) - Trump campaign adviser ...  politicsNews   \n",
              "4  SEATTLE/WASHINGTON (Reuters) - President Donal...  politicsNews   \n",
              "\n",
              "                 date  \n",
              "0  December 31, 2017   \n",
              "1  December 29, 2017   \n",
              "2  December 31, 2017   \n",
              "3  December 30, 2017   \n",
              "4  December 29, 2017   "
            ],
            "text/html": [
              "\n",
              "  <div id=\"df-0b62f931-1b69-4970-a6ee-7f59a4d193cd\">\n",
              "    <div class=\"colab-df-container\">\n",
              "      <div>\n",
              "<style scoped>\n",
              "    .dataframe tbody tr th:only-of-type {\n",
              "        vertical-align: middle;\n",
              "    }\n",
              "\n",
              "    .dataframe tbody tr th {\n",
              "        vertical-align: top;\n",
              "    }\n",
              "\n",
              "    .dataframe thead th {\n",
              "        text-align: right;\n",
              "    }\n",
              "</style>\n",
              "<table border=\"1\" class=\"dataframe\">\n",
              "  <thead>\n",
              "    <tr style=\"text-align: right;\">\n",
              "      <th></th>\n",
              "      <th>title</th>\n",
              "      <th>text</th>\n",
              "      <th>subject</th>\n",
              "      <th>date</th>\n",
              "    </tr>\n",
              "  </thead>\n",
              "  <tbody>\n",
              "    <tr>\n",
              "      <th>0</th>\n",
              "      <td>As U.S. budget fight looms, Republicans flip t...</td>\n",
              "      <td>WASHINGTON (Reuters) - The head of a conservat...</td>\n",
              "      <td>politicsNews</td>\n",
              "      <td>December 31, 2017</td>\n",
              "    </tr>\n",
              "    <tr>\n",
              "      <th>1</th>\n",
              "      <td>U.S. military to accept transgender recruits o...</td>\n",
              "      <td>WASHINGTON (Reuters) - Transgender people will...</td>\n",
              "      <td>politicsNews</td>\n",
              "      <td>December 29, 2017</td>\n",
              "    </tr>\n",
              "    <tr>\n",
              "      <th>2</th>\n",
              "      <td>Senior U.S. Republican senator: 'Let Mr. Muell...</td>\n",
              "      <td>WASHINGTON (Reuters) - The special counsel inv...</td>\n",
              "      <td>politicsNews</td>\n",
              "      <td>December 31, 2017</td>\n",
              "    </tr>\n",
              "    <tr>\n",
              "      <th>3</th>\n",
              "      <td>FBI Russia probe helped by Australian diplomat...</td>\n",
              "      <td>WASHINGTON (Reuters) - Trump campaign adviser ...</td>\n",
              "      <td>politicsNews</td>\n",
              "      <td>December 30, 2017</td>\n",
              "    </tr>\n",
              "    <tr>\n",
              "      <th>4</th>\n",
              "      <td>Trump wants Postal Service to charge 'much mor...</td>\n",
              "      <td>SEATTLE/WASHINGTON (Reuters) - President Donal...</td>\n",
              "      <td>politicsNews</td>\n",
              "      <td>December 29, 2017</td>\n",
              "    </tr>\n",
              "  </tbody>\n",
              "</table>\n",
              "</div>\n",
              "      <button class=\"colab-df-convert\" onclick=\"convertToInteractive('df-0b62f931-1b69-4970-a6ee-7f59a4d193cd')\"\n",
              "              title=\"Convert this dataframe to an interactive table.\"\n",
              "              style=\"display:none;\">\n",
              "        \n",
              "  <svg xmlns=\"http://www.w3.org/2000/svg\" height=\"24px\"viewBox=\"0 0 24 24\"\n",
              "       width=\"24px\">\n",
              "    <path d=\"M0 0h24v24H0V0z\" fill=\"none\"/>\n",
              "    <path d=\"M18.56 5.44l.94 2.06.94-2.06 2.06-.94-2.06-.94-.94-2.06-.94 2.06-2.06.94zm-11 1L8.5 8.5l.94-2.06 2.06-.94-2.06-.94L8.5 2.5l-.94 2.06-2.06.94zm10 10l.94 2.06.94-2.06 2.06-.94-2.06-.94-.94-2.06-.94 2.06-2.06.94z\"/><path d=\"M17.41 7.96l-1.37-1.37c-.4-.4-.92-.59-1.43-.59-.52 0-1.04.2-1.43.59L10.3 9.45l-7.72 7.72c-.78.78-.78 2.05 0 2.83L4 21.41c.39.39.9.59 1.41.59.51 0 1.02-.2 1.41-.59l7.78-7.78 2.81-2.81c.8-.78.8-2.07 0-2.86zM5.41 20L4 18.59l7.72-7.72 1.47 1.35L5.41 20z\"/>\n",
              "  </svg>\n",
              "      </button>\n",
              "      \n",
              "  <style>\n",
              "    .colab-df-container {\n",
              "      display:flex;\n",
              "      flex-wrap:wrap;\n",
              "      gap: 12px;\n",
              "    }\n",
              "\n",
              "    .colab-df-convert {\n",
              "      background-color: #E8F0FE;\n",
              "      border: none;\n",
              "      border-radius: 50%;\n",
              "      cursor: pointer;\n",
              "      display: none;\n",
              "      fill: #1967D2;\n",
              "      height: 32px;\n",
              "      padding: 0 0 0 0;\n",
              "      width: 32px;\n",
              "    }\n",
              "\n",
              "    .colab-df-convert:hover {\n",
              "      background-color: #E2EBFA;\n",
              "      box-shadow: 0px 1px 2px rgba(60, 64, 67, 0.3), 0px 1px 3px 1px rgba(60, 64, 67, 0.15);\n",
              "      fill: #174EA6;\n",
              "    }\n",
              "\n",
              "    [theme=dark] .colab-df-convert {\n",
              "      background-color: #3B4455;\n",
              "      fill: #D2E3FC;\n",
              "    }\n",
              "\n",
              "    [theme=dark] .colab-df-convert:hover {\n",
              "      background-color: #434B5C;\n",
              "      box-shadow: 0px 1px 3px 1px rgba(0, 0, 0, 0.15);\n",
              "      filter: drop-shadow(0px 1px 2px rgba(0, 0, 0, 0.3));\n",
              "      fill: #FFFFFF;\n",
              "    }\n",
              "  </style>\n",
              "\n",
              "      <script>\n",
              "        const buttonEl =\n",
              "          document.querySelector('#df-0b62f931-1b69-4970-a6ee-7f59a4d193cd button.colab-df-convert');\n",
              "        buttonEl.style.display =\n",
              "          google.colab.kernel.accessAllowed ? 'block' : 'none';\n",
              "\n",
              "        async function convertToInteractive(key) {\n",
              "          const element = document.querySelector('#df-0b62f931-1b69-4970-a6ee-7f59a4d193cd');\n",
              "          const dataTable =\n",
              "            await google.colab.kernel.invokeFunction('convertToInteractive',\n",
              "                                                     [key], {});\n",
              "          if (!dataTable) return;\n",
              "\n",
              "          const docLinkHtml = 'Like what you see? Visit the ' +\n",
              "            '<a target=\"_blank\" href=https://colab.research.google.com/notebooks/data_table.ipynb>data table notebook</a>'\n",
              "            + ' to learn more about interactive tables.';\n",
              "          element.innerHTML = '';\n",
              "          dataTable['output_type'] = 'display_data';\n",
              "          await google.colab.output.renderOutput(dataTable, element);\n",
              "          const docLink = document.createElement('div');\n",
              "          docLink.innerHTML = docLinkHtml;\n",
              "          element.appendChild(docLink);\n",
              "        }\n",
              "      </script>\n",
              "    </div>\n",
              "  </div>\n",
              "  "
            ]
          },
          "metadata": {},
          "execution_count": 146
        }
      ]
    },
    {
      "cell_type": "code",
      "source": [
        "fake.columns"
      ],
      "metadata": {
        "colab": {
          "base_uri": "https://localhost:8080/"
        },
        "id": "x5nFcFWgWEOZ",
        "outputId": "59bb1807-9901-4e3d-dc10-e18ff86cb42d"
      },
      "execution_count": null,
      "outputs": [
        {
          "output_type": "execute_result",
          "data": {
            "text/plain": [
              "Index(['title', 'text', 'subject', 'date'], dtype='object')"
            ]
          },
          "metadata": {},
          "execution_count": 147
        }
      ]
    },
    {
      "cell_type": "code",
      "source": [
        "fake['subject'].value_counts() "
      ],
      "metadata": {
        "colab": {
          "base_uri": "https://localhost:8080/"
        },
        "id": "5VEQC5fAWERU",
        "outputId": "85d941aa-f656-4c5a-c409-16041f07b364"
      },
      "execution_count": null,
      "outputs": [
        {
          "output_type": "execute_result",
          "data": {
            "text/plain": [
              "News               9050\n",
              "politics           6841\n",
              "left-news          4459\n",
              "Government News    1570\n",
              "US_News             783\n",
              "Middle-east         778\n",
              "Name: subject, dtype: int64"
            ]
          },
          "metadata": {},
          "execution_count": 148
        }
      ]
    },
    {
      "cell_type": "code",
      "source": [
        "plt.figure(figsize=(10,6))\n",
        "sns.countplot(x = 'subject', data = fake)"
      ],
      "metadata": {
        "colab": {
          "base_uri": "https://localhost:8080/",
          "height": 559
        },
        "id": "zu0onnBVWEUD",
        "outputId": "68fbd5d0-3ced-4869-c53f-2f39219e6c9c"
      },
      "execution_count": null,
      "outputs": [
        {
          "output_type": "execute_result",
          "data": {
            "text/plain": [
              "<Axes: xlabel='subject', ylabel='count'>"
            ]
          },
          "metadata": {},
          "execution_count": 149
        },
        {
          "output_type": "display_data",
          "data": {
            "text/plain": [
              "<Figure size 1000x600 with 1 Axes>"
            ],
            "image/png": "[encoded data removed]"
          },
          "metadata": {}
        }
      ]
    },
    {
      "cell_type": "markdown",
      "source": [
        "WORD COUNT FOR FAKE NEWS\n"
      ],
      "metadata": {
        "id": "KibvFC5Nci6r"
      }
    },
    {
      "cell_type": "code",
      "source": [
        "text = ' '.join(fake['text'].tolist())"
      ],
      "metadata": {
        "id": "Sx5kwKiEWEW8"
      },
      "execution_count": null,
      "outputs": []
    },
    {
      "cell_type": "code",
      "source": [
        "' '.join(['this', 'is', 'a', 'data'])"
      ],
      "metadata": {
        "colab": {
          "base_uri": "https://localhost:8080/",
          "height": 35
        },
        "id": "y7lj5cHHWEZs",
        "outputId": "1321e77c-873d-4016-b40b-f0a06aa6ade9"
      },
      "execution_count": null,
      "outputs": [
        {
          "output_type": "execute_result",
          "data": {
            "text/plain": [
              "'this is a data'"
            ],
            "application/vnd.google.colaboratory.intrinsic+json": {
              "type": "string"
            }
          },
          "metadata": {},
          "execution_count": 151
        }
      ]
    },
    {
      "cell_type": "code",
      "source": [
        "wordcloud = WordCloud().generate(text)\n",
        "plt.imshow(wordcloud)"
      ],
      "metadata": {
        "colab": {
          "base_uri": "https://localhost:8080/",
          "height": 330
        },
        "id": "d5ST50TKWEcQ",
        "outputId": "1517f22a-51b7-444f-ca79-f1a86bd34cf1"
      },
      "execution_count": null,
      "outputs": [
        {
          "output_type": "execute_result",
          "data": {
            "text/plain": [
              "<matplotlib.image.AxesImage at 0x7f4d536de9b0>"
            ]
          },
          "metadata": {},
          "execution_count": 152
        },
        {
          "output_type": "display_data",
          "data": {
            "text/plain": [
              "<Figure size 640x480 with 1 Axes>"
            ],
            "image/png": "[encoded data removed]"
          },
          "metadata": {}
        }
      ]
    },
    {
      "cell_type": "markdown",
      "source": [
        "WORD COUNT FOR TRUE NEWS"
      ],
      "metadata": {
        "id": "tVNJ74oZi7PU"
      }
    },
    {
      "cell_type": "code",
      "source": [
        "text = ' '.join(true['text'].tolist())"
      ],
      "metadata": {
        "id": "vZN_A73OWEe2"
      },
      "execution_count": null,
      "outputs": []
    },
    {
      "cell_type": "code",
      "source": [
        "' '.join(['this', 'is', 'a', 'data'])"
      ],
      "metadata": {
        "colab": {
          "base_uri": "https://localhost:8080/",
          "height": 35
        },
        "id": "PuMtUCjSWEhZ",
        "outputId": "8502b908-9876-4f28-bb64-d3e7fc60567d"
      },
      "execution_count": null,
      "outputs": [
        {
          "output_type": "execute_result",
          "data": {
            "text/plain": [
              "'this is a data'"
            ],
            "application/vnd.google.colaboratory.intrinsic+json": {
              "type": "string"
            }
          },
          "metadata": {},
          "execution_count": 154
        }
      ]
    },
    {
      "cell_type": "code",
      "source": [
        "wordcloud = WordCloud().generate(text)\n",
        "plt.imshow(wordcloud)"
      ],
      "metadata": {
        "colab": {
          "base_uri": "https://localhost:8080/",
          "height": 330
        },
        "id": "eP_BodBnWEkN",
        "outputId": "51348bef-35be-49a5-fa31-c787ebacb7e4"
      },
      "execution_count": null,
      "outputs": [
        {
          "output_type": "execute_result",
          "data": {
            "text/plain": [
              "<matplotlib.image.AxesImage at 0x7f4d444ea530>"
            ]
          },
          "metadata": {},
          "execution_count": 155
        },
        {
          "output_type": "display_data",
          "data": {
            "text/plain": [
              "<Figure size 640x480 with 1 Axes>"
            ],
            "image/png": "[encoded data removed]"
          },
          "metadata": {}
        }
      ]
    },
    {
      "cell_type": "markdown",
      "source": [
        "CLEANING OF DATA"
      ],
      "metadata": {
        "id": "0YBSyODSqGoV"
      }
    },
    {
      "cell_type": "code",
      "source": [
        "true.sample(4)"
      ],
      "metadata": {
        "colab": {
          "base_uri": "https://localhost:8080/",
          "height": 288
        },
        "id": "KeI5i_YQWEmn",
        "outputId": "c468d3ed-3fb8-4aee-8d4d-a6c1c54b8adc"
      },
      "execution_count": null,
      "outputs": [
        {
          "output_type": "execute_result",
          "data": {
            "text/plain": [
              "                                                   title  \\\n",
              "6868   Obama defends record on terrorism in national ...   \n",
              "17439  South Korea parliament chief tells North Korea...   \n",
              "9491   Democrats Clinton, Sanders split nominating co...   \n",
              "7535   Security hustles Trump from stage after protes...   \n",
              "\n",
              "                                                    text       subject  \\\n",
              "6868   TAMPA, Fla. (Reuters) - President Barack Obama...  politicsNews   \n",
              "17439  MOSCOW (Reuters) - Chung Sye-kyun, the speaker...     worldnews   \n",
              "9491   WASHINGTON (Reuters) - Democrat candidates Hil...  politicsNews   \n",
              "7535   RENO, Nevada/PHILADELPHIA (Reuters) - Republic...  politicsNews   \n",
              "\n",
              "                    date  \n",
              "6868   December 6, 2016   \n",
              "17439  October 15, 2017   \n",
              "9491       May 17, 2016   \n",
              "7535   November 5, 2016   "
            ],
            "text/html": [
              "\n",
              "  <div id=\"df-b3dacf9f-e048-4ba7-89d4-37350b382cfa\">\n",
              "    <div class=\"colab-df-container\">\n",
              "      <div>\n",
              "<style scoped>\n",
              "    .dataframe tbody tr th:only-of-type {\n",
              "        vertical-align: middle;\n",
              "    }\n",
              "\n",
              "    .dataframe tbody tr th {\n",
              "        vertical-align: top;\n",
              "    }\n",
              "\n",
              "    .dataframe thead th {\n",
              "        text-align: right;\n",
              "    }\n",
              "</style>\n",
              "<table border=\"1\" class=\"dataframe\">\n",
              "  <thead>\n",
              "    <tr style=\"text-align: right;\">\n",
              "      <th></th>\n",
              "      <th>title</th>\n",
              "      <th>text</th>\n",
              "      <th>subject</th>\n",
              "      <th>date</th>\n",
              "    </tr>\n",
              "  </thead>\n",
              "  <tbody>\n",
              "    <tr>\n",
              "      <th>6868</th>\n",
              "      <td>Obama defends record on terrorism in national ...</td>\n",
              "      <td>TAMPA, Fla. (Reuters) - President Barack Obama...</td>\n",
              "      <td>politicsNews</td>\n",
              "      <td>December 6, 2016</td>\n",
              "    </tr>\n",
              "    <tr>\n",
              "      <th>17439</th>\n",
              "      <td>South Korea parliament chief tells North Korea...</td>\n",
              "      <td>MOSCOW (Reuters) - Chung Sye-kyun, the speaker...</td>\n",
              "      <td>worldnews</td>\n",
              "      <td>October 15, 2017</td>\n",
              "    </tr>\n",
              "    <tr>\n",
              "      <th>9491</th>\n",
              "      <td>Democrats Clinton, Sanders split nominating co...</td>\n",
              "      <td>WASHINGTON (Reuters) - Democrat candidates Hil...</td>\n",
              "      <td>politicsNews</td>\n",
              "      <td>May 17, 2016</td>\n",
              "    </tr>\n",
              "    <tr>\n",
              "      <th>7535</th>\n",
              "      <td>Security hustles Trump from stage after protes...</td>\n",
              "      <td>RENO, Nevada/PHILADELPHIA (Reuters) - Republic...</td>\n",
              "      <td>politicsNews</td>\n",
              "      <td>November 5, 2016</td>\n",
              "    </tr>\n",
              "  </tbody>\n",
              "</table>\n",
              "</div>\n",
              "      <button class=\"colab-df-convert\" onclick=\"convertToInteractive('df-b3dacf9f-e048-4ba7-89d4-37350b382cfa')\"\n",
              "              title=\"Convert this dataframe to an interactive table.\"\n",
              "              style=\"display:none;\">\n",
              "        \n",
              "  <svg xmlns=\"http://www.w3.org/2000/svg\" height=\"24px\"viewBox=\"0 0 24 24\"\n",
              "       width=\"24px\">\n",
              "    <path d=\"M0 0h24v24H0V0z\" fill=\"none\"/>\n",
              "    <path d=\"M18.56 5.44l.94 2.06.94-2.06 2.06-.94-2.06-.94-.94-2.06-.94 2.06-2.06.94zm-11 1L8.5 8.5l.94-2.06 2.06-.94-2.06-.94L8.5 2.5l-.94 2.06-2.06.94zm10 10l.94 2.06.94-2.06 2.06-.94-2.06-.94-.94-2.06-.94 2.06-2.06.94z\"/><path d=\"M17.41 7.96l-1.37-1.37c-.4-.4-.92-.59-1.43-.59-.52 0-1.04.2-1.43.59L10.3 9.45l-7.72 7.72c-.78.78-.78 2.05 0 2.83L4 21.41c.39.39.9.59 1.41.59.51 0 1.02-.2 1.41-.59l7.78-7.78 2.81-2.81c.8-.78.8-2.07 0-2.86zM5.41 20L4 18.59l7.72-7.72 1.47 1.35L5.41 20z\"/>\n",
              "  </svg>\n",
              "      </button>\n",
              "      \n",
              "  <style>\n",
              "    .colab-df-container {\n",
              "      display:flex;\n",
              "      flex-wrap:wrap;\n",
              "      gap: 12px;\n",
              "    }\n",
              "\n",
              "    .colab-df-convert {\n",
              "      background-color: #E8F0FE;\n",
              "      border: none;\n",
              "      border-radius: 50%;\n",
              "      cursor: pointer;\n",
              "      display: none;\n",
              "      fill: #1967D2;\n",
              "      height: 32px;\n",
              "      padding: 0 0 0 0;\n",
              "      width: 32px;\n",
              "    }\n",
              "\n",
              "    .colab-df-convert:hover {\n",
              "      background-color: #E2EBFA;\n",
              "      box-shadow: 0px 1px 2px rgba(60, 64, 67, 0.3), 0px 1px 3px 1px rgba(60, 64, 67, 0.15);\n",
              "      fill: #174EA6;\n",
              "    }\n",
              "\n",
              "    [theme=dark] .colab-df-convert {\n",
              "      background-color: #3B4455;\n",
              "      fill: #D2E3FC;\n",
              "    }\n",
              "\n",
              "    [theme=dark] .colab-df-convert:hover {\n",
              "      background-color: #434B5C;\n",
              "      box-shadow: 0px 1px 3px 1px rgba(0, 0, 0, 0.15);\n",
              "      filter: drop-shadow(0px 1px 2px rgba(0, 0, 0, 0.3));\n",
              "      fill: #FFFFFF;\n",
              "    }\n",
              "  </style>\n",
              "\n",
              "      <script>\n",
              "        const buttonEl =\n",
              "          document.querySelector('#df-b3dacf9f-e048-4ba7-89d4-37350b382cfa button.colab-df-convert');\n",
              "        buttonEl.style.display =\n",
              "          google.colab.kernel.accessAllowed ? 'block' : 'none';\n",
              "\n",
              "        async function convertToInteractive(key) {\n",
              "          const element = document.querySelector('#df-b3dacf9f-e048-4ba7-89d4-37350b382cfa');\n",
              "          const dataTable =\n",
              "            await google.colab.kernel.invokeFunction('convertToInteractive',\n",
              "                                                     [key], {});\n",
              "          if (!dataTable) return;\n",
              "\n",
              "          const docLinkHtml = 'Like what you see? Visit the ' +\n",
              "            '<a target=\"_blank\" href=https://colab.research.google.com/notebooks/data_table.ipynb>data table notebook</a>'\n",
              "            + ' to learn more about interactive tables.';\n",
              "          element.innerHTML = '';\n",
              "          dataTable['output_type'] = 'display_data';\n",
              "          await google.colab.output.renderOutput(dataTable, element);\n",
              "          const docLink = document.createElement('div');\n",
              "          docLink.innerHTML = docLinkHtml;\n",
              "          element.appendChild(docLink);\n",
              "        }\n",
              "      </script>\n",
              "    </div>\n",
              "  </div>\n",
              "  "
            ]
          },
          "metadata": {},
          "execution_count": 156
        }
      ]
    },
    {
      "cell_type": "code",
      "source": [
        "unknown_publishers = []\n",
        "for index, row in enumerate(true.text.values):\n",
        "  try:\n",
        "    record = row.split('-', maxsplit=1)\n",
        "    record[1]\n",
        "\n",
        "    assert(len(record[0])<120)\n",
        "  except:\n",
        "    unknown_publishers.append(index)"
      ],
      "metadata": {
        "id": "FZ_M_2WkWEpT"
      },
      "execution_count": null,
      "outputs": []
    },
    {
      "cell_type": "code",
      "source": [
        "true.iloc[unknown_publishers]"
      ],
      "metadata": {
        "colab": {
          "base_uri": "https://localhost:8080/",
          "height": 641
        },
        "id": "-nKzRqOEWEsC",
        "outputId": "9fe754a3-2e7b-436c-f317-aa538f3ff36d"
      },
      "execution_count": null,
      "outputs": [
        {
          "output_type": "execute_result",
          "data": {
            "text/plain": [
              "                                                   title  \\\n",
              "7      Factbox: Trump on Twitter (Dec 29) - Approval ...   \n",
              "8             Trump on Twitter (Dec 28) - Global Warming   \n",
              "12     Factbox: Trump on Twitter (Dec 28) - Vanity Fa...   \n",
              "13        Trump on Twitter (Dec 27) - Trump, Iraq, Syria   \n",
              "14     Man says he delivered manure to Mnuchin to pro...   \n",
              "...                                                  ...   \n",
              "20135  China's big money trumps U.S. influence in Cam...   \n",
              "20500  UK publisher rejected request to block academi...   \n",
              "20667  Rohingya say their village is lost to Myanmar'...   \n",
              "21246  'Gates of Hell': Iraqi army says fighting near...   \n",
              "21339  Indian court's privacy ruling is blow to gover...   \n",
              "\n",
              "                                                    text       subject  \\\n",
              "7      The following statements were posted to the ve...  politicsNews   \n",
              "8      The following statements were posted to the ve...  politicsNews   \n",
              "12     The following statements were posted to the ve...  politicsNews   \n",
              "13     The following statements were posted to the ve...  politicsNews   \n",
              "14      (In Dec. 25 story, in second paragraph, corre...  politicsNews   \n",
              "...                                                  ...           ...   \n",
              "20135   (Story corrects to million from billion in pa...     worldnews   \n",
              "20500   (This Sept 8 story corrects headline, clarifi...     worldnews   \n",
              "20667   (Story refiles to add dropped word  not , in ...     worldnews   \n",
              "21246   (Story corrects third paragraph to show Mosul...     worldnews   \n",
              "21339   (Story corrects to fix spelling in paragraph ...     worldnews   \n",
              "\n",
              "                      date  \n",
              "7       December 29, 2017   \n",
              "8       December 29, 2017   \n",
              "12      December 28, 2017   \n",
              "13      December 28, 2017   \n",
              "14      December 25, 2017   \n",
              "...                    ...  \n",
              "20135  September 11, 2017   \n",
              "20500   September 8, 2017   \n",
              "20667   September 7, 2017   \n",
              "21246     August 29, 2017   \n",
              "21339     August 24, 2017   \n",
              "\n",
              "[222 rows x 4 columns]"
            ],
            "text/html": [
              "\n",
              "  <div id=\"df-5203007f-e1bd-4c04-a7b2-c70cf834be1d\">\n",
              "    <div class=\"colab-df-container\">\n",
              "      <div>\n",
              "<style scoped>\n",
              "    .dataframe tbody tr th:only-of-type {\n",
              "        vertical-align: middle;\n",
              "    }\n",
              "\n",
              "    .dataframe tbody tr th {\n",
              "        vertical-align: top;\n",
              "    }\n",
              "\n",
              "    .dataframe thead th {\n",
              "        text-align: right;\n",
              "    }\n",
              "</style>\n",
              "<table border=\"1\" class=\"dataframe\">\n",
              "  <thead>\n",
              "    <tr style=\"text-align: right;\">\n",
              "      <th></th>\n",
              "      <th>title</th>\n",
              "      <th>text</th>\n",
              "      <th>subject</th>\n",
              "      <th>date</th>\n",
              "    </tr>\n",
              "  </thead>\n",
              "  <tbody>\n",
              "    <tr>\n",
              "      <th>7</th>\n",
              "      <td>Factbox: Trump on Twitter (Dec 29) - Approval ...</td>\n",
              "      <td>The following statements were posted to the ve...</td>\n",
              "      <td>politicsNews</td>\n",
              "      <td>December 29, 2017</td>\n",
              "    </tr>\n",
              "    <tr>\n",
              "      <th>8</th>\n",
              "      <td>Trump on Twitter (Dec 28) - Global Warming</td>\n",
              "      <td>The following statements were posted to the ve...</td>\n",
              "      <td>politicsNews</td>\n",
              "      <td>December 29, 2017</td>\n",
              "    </tr>\n",
              "    <tr>\n",
              "      <th>12</th>\n",
              "      <td>Factbox: Trump on Twitter (Dec 28) - Vanity Fa...</td>\n",
              "      <td>The following statements were posted to the ve...</td>\n",
              "      <td>politicsNews</td>\n",
              "      <td>December 28, 2017</td>\n",
              "    </tr>\n",
              "    <tr>\n",
              "      <th>13</th>\n",
              "      <td>Trump on Twitter (Dec 27) - Trump, Iraq, Syria</td>\n",
              "      <td>The following statements were posted to the ve...</td>\n",
              "      <td>politicsNews</td>\n",
              "      <td>December 28, 2017</td>\n",
              "    </tr>\n",
              "    <tr>\n",
              "      <th>14</th>\n",
              "      <td>Man says he delivered manure to Mnuchin to pro...</td>\n",
              "      <td>(In Dec. 25 story, in second paragraph, corre...</td>\n",
              "      <td>politicsNews</td>\n",
              "      <td>December 25, 2017</td>\n",
              "    </tr>\n",
              "    <tr>\n",
              "      <th>...</th>\n",
              "      <td>...</td>\n",
              "      <td>...</td>\n",
              "      <td>...</td>\n",
              "      <td>...</td>\n",
              "    </tr>\n",
              "    <tr>\n",
              "      <th>20135</th>\n",
              "      <td>China's big money trumps U.S. influence in Cam...</td>\n",
              "      <td>(Story corrects to million from billion in pa...</td>\n",
              "      <td>worldnews</td>\n",
              "      <td>September 11, 2017</td>\n",
              "    </tr>\n",
              "    <tr>\n",
              "      <th>20500</th>\n",
              "      <td>UK publisher rejected request to block academi...</td>\n",
              "      <td>(This Sept 8 story corrects headline, clarifi...</td>\n",
              "      <td>worldnews</td>\n",
              "      <td>September 8, 2017</td>\n",
              "    </tr>\n",
              "    <tr>\n",
              "      <th>20667</th>\n",
              "      <td>Rohingya say their village is lost to Myanmar'...</td>\n",
              "      <td>(Story refiles to add dropped word  not , in ...</td>\n",
              "      <td>worldnews</td>\n",
              "      <td>September 7, 2017</td>\n",
              "    </tr>\n",
              "    <tr>\n",
              "      <th>21246</th>\n",
              "      <td>'Gates of Hell': Iraqi army says fighting near...</td>\n",
              "      <td>(Story corrects third paragraph to show Mosul...</td>\n",
              "      <td>worldnews</td>\n",
              "      <td>August 29, 2017</td>\n",
              "    </tr>\n",
              "    <tr>\n",
              "      <th>21339</th>\n",
              "      <td>Indian court's privacy ruling is blow to gover...</td>\n",
              "      <td>(Story corrects to fix spelling in paragraph ...</td>\n",
              "      <td>worldnews</td>\n",
              "      <td>August 24, 2017</td>\n",
              "    </tr>\n",
              "  </tbody>\n",
              "</table>\n",
              "<p>222 rows × 4 columns</p>\n",
              "</div>\n",
              "      <button class=\"colab-df-convert\" onclick=\"convertToInteractive('df-5203007f-e1bd-4c04-a7b2-c70cf834be1d')\"\n",
              "              title=\"Convert this dataframe to an interactive table.\"\n",
              "              style=\"display:none;\">\n",
              "        \n",
              "  <svg xmlns=\"http://www.w3.org/2000/svg\" height=\"24px\"viewBox=\"0 0 24 24\"\n",
              "       width=\"24px\">\n",
              "    <path d=\"M0 0h24v24H0V0z\" fill=\"none\"/>\n",
              "    <path d=\"M18.56 5.44l.94 2.06.94-2.06 2.06-.94-2.06-.94-.94-2.06-.94 2.06-2.06.94zm-11 1L8.5 8.5l.94-2.06 2.06-.94-2.06-.94L8.5 2.5l-.94 2.06-2.06.94zm10 10l.94 2.06.94-2.06 2.06-.94-2.06-.94-.94-2.06-.94 2.06-2.06.94z\"/><path d=\"M17.41 7.96l-1.37-1.37c-.4-.4-.92-.59-1.43-.59-.52 0-1.04.2-1.43.59L10.3 9.45l-7.72 7.72c-.78.78-.78 2.05 0 2.83L4 21.41c.39.39.9.59 1.41.59.51 0 1.02-.2 1.41-.59l7.78-7.78 2.81-2.81c.8-.78.8-2.07 0-2.86zM5.41 20L4 18.59l7.72-7.72 1.47 1.35L5.41 20z\"/>\n",
              "  </svg>\n",
              "      </button>\n",
              "      \n",
              "  <style>\n",
              "    .colab-df-container {\n",
              "      display:flex;\n",
              "      flex-wrap:wrap;\n",
              "      gap: 12px;\n",
              "    }\n",
              "\n",
              "    .colab-df-convert {\n",
              "      background-color: #E8F0FE;\n",
              "      border: none;\n",
              "      border-radius: 50%;\n",
              "      cursor: pointer;\n",
              "      display: none;\n",
              "      fill: #1967D2;\n",
              "      height: 32px;\n",
              "      padding: 0 0 0 0;\n",
              "      width: 32px;\n",
              "    }\n",
              "\n",
              "    .colab-df-convert:hover {\n",
              "      background-color: #E2EBFA;\n",
              "      box-shadow: 0px 1px 2px rgba(60, 64, 67, 0.3), 0px 1px 3px 1px rgba(60, 64, 67, 0.15);\n",
              "      fill: #174EA6;\n",
              "    }\n",
              "\n",
              "    [theme=dark] .colab-df-convert {\n",
              "      background-color: #3B4455;\n",
              "      fill: #D2E3FC;\n",
              "    }\n",
              "\n",
              "    [theme=dark] .colab-df-convert:hover {\n",
              "      background-color: #434B5C;\n",
              "      box-shadow: 0px 1px 3px 1px rgba(0, 0, 0, 0.15);\n",
              "      filter: drop-shadow(0px 1px 2px rgba(0, 0, 0, 0.3));\n",
              "      fill: #FFFFFF;\n",
              "    }\n",
              "  </style>\n",
              "\n",
              "      <script>\n",
              "        const buttonEl =\n",
              "          document.querySelector('#df-5203007f-e1bd-4c04-a7b2-c70cf834be1d button.colab-df-convert');\n",
              "        buttonEl.style.display =\n",
              "          google.colab.kernel.accessAllowed ? 'block' : 'none';\n",
              "\n",
              "        async function convertToInteractive(key) {\n",
              "          const element = document.querySelector('#df-5203007f-e1bd-4c04-a7b2-c70cf834be1d');\n",
              "          const dataTable =\n",
              "            await google.colab.kernel.invokeFunction('convertToInteractive',\n",
              "                                                     [key], {});\n",
              "          if (!dataTable) return;\n",
              "\n",
              "          const docLinkHtml = 'Like what you see? Visit the ' +\n",
              "            '<a target=\"_blank\" href=https://colab.research.google.com/notebooks/data_table.ipynb>data table notebook</a>'\n",
              "            + ' to learn more about interactive tables.';\n",
              "          element.innerHTML = '';\n",
              "          dataTable['output_type'] = 'display_data';\n",
              "          await google.colab.output.renderOutput(dataTable, element);\n",
              "          const docLink = document.createElement('div');\n",
              "          docLink.innerHTML = docLinkHtml;\n",
              "          element.appendChild(docLink);\n",
              "        }\n",
              "      </script>\n",
              "    </div>\n",
              "  </div>\n",
              "  "
            ]
          },
          "metadata": {},
          "execution_count": 158
        }
      ]
    },
    {
      "cell_type": "code",
      "source": [
        "len(unknown_publishers)"
      ],
      "metadata": {
        "colab": {
          "base_uri": "https://localhost:8080/"
        },
        "id": "mvG4NOt28oVu",
        "outputId": "b4d0d6a3-abde-4bfd-eb68-f255275b28c9"
      },
      "execution_count": null,
      "outputs": [
        {
          "output_type": "execute_result",
          "data": {
            "text/plain": [
              "222"
            ]
          },
          "metadata": {},
          "execution_count": 159
        }
      ]
    },
    {
      "cell_type": "code",
      "source": [
        "true.iloc[unknown_publishers].text"
      ],
      "metadata": {
        "colab": {
          "base_uri": "https://localhost:8080/"
        },
        "id": "4_lw-H5M2N2G",
        "outputId": "2c85c90d-0a4f-4a73-a8d7-b08ab0de3b14"
      },
      "execution_count": null,
      "outputs": [
        {
          "output_type": "execute_result",
          "data": {
            "text/plain": [
              "7        The following statements were posted to the ve...\n",
              "8        The following statements were posted to the ve...\n",
              "12       The following statements were posted to the ve...\n",
              "13       The following statements were posted to the ve...\n",
              "14        (In Dec. 25 story, in second paragraph, corre...\n",
              "                               ...                        \n",
              "20135     (Story corrects to million from billion in pa...\n",
              "20500     (This Sept 8 story corrects headline, clarifi...\n",
              "20667     (Story refiles to add dropped word  not , in ...\n",
              "21246     (Story corrects third paragraph to show Mosul...\n",
              "21339     (Story corrects to fix spelling in paragraph ...\n",
              "Name: text, Length: 222, dtype: object"
            ]
          },
          "metadata": {},
          "execution_count": 160
        }
      ]
    },
    {
      "cell_type": "code",
      "source": [
        "true = true.drop(8970, axis = 0)"
      ],
      "metadata": {
        "id": "dooAD6mH8Djn"
      },
      "execution_count": null,
      "outputs": []
    },
    {
      "cell_type": "code",
      "source": [
        "publisher = []\n",
        "tmp_text = []\n",
        "\n",
        "for index, row in enumerate(true.text.values):\n",
        "  if index in unknown_publishers:\n",
        "    tmp_text.append(row)\n",
        "    publisher.append(\"Unknown\")\n",
        "\n",
        "  else:\n",
        "    record = row.split('-', maxsplit=1)\n",
        "    publisher.append(record[0].strip())\n",
        "    tmp_text.append(record[1].strip())"
      ],
      "metadata": {
        "id": "Yx1bhfRJWEu4"
      },
      "execution_count": null,
      "outputs": []
    },
    {
      "cell_type": "code",
      "source": [
        "true['publisher'] = publisher\n",
        "true['text'] = tmp_text"
      ],
      "metadata": {
        "id": "eRkdnjNGWExQ"
      },
      "execution_count": null,
      "outputs": []
    },
    {
      "cell_type": "code",
      "source": [
        "true.head()"
      ],
      "metadata": {
        "colab": {
          "base_uri": "https://localhost:8080/",
          "height": 337
        },
        "id": "xrkRsJ7BWE0J",
        "outputId": "ddcee2c1-f32e-421e-a0a4-7729c3a115fb"
      },
      "execution_count": null,
      "outputs": [
        {
          "output_type": "execute_result",
          "data": {
            "text/plain": [
              "                                               title  \\\n",
              "0  As U.S. budget fight looms, Republicans flip t...   \n",
              "1  U.S. military to accept transgender recruits o...   \n",
              "2  Senior U.S. Republican senator: 'Let Mr. Muell...   \n",
              "3  FBI Russia probe helped by Australian diplomat...   \n",
              "4  Trump wants Postal Service to charge 'much mor...   \n",
              "\n",
              "                                                text       subject  \\\n",
              "0  The head of a conservative Republican faction ...  politicsNews   \n",
              "1  Transgender people will be allowed for the fir...  politicsNews   \n",
              "2  The special counsel investigation of links bet...  politicsNews   \n",
              "3  Trump campaign adviser George Papadopoulos tol...  politicsNews   \n",
              "4  President Donald Trump called on the U.S. Post...  politicsNews   \n",
              "\n",
              "                 date                     publisher  \n",
              "0  December 31, 2017           WASHINGTON (Reuters)  \n",
              "1  December 29, 2017           WASHINGTON (Reuters)  \n",
              "2  December 31, 2017           WASHINGTON (Reuters)  \n",
              "3  December 30, 2017           WASHINGTON (Reuters)  \n",
              "4  December 29, 2017   SEATTLE/WASHINGTON (Reuters)  "
            ],
            "text/html": [
              "\n",
              "  <div id=\"df-313137f7-60d2-4b40-b8d9-0f34c2fa6670\">\n",
              "    <div class=\"colab-df-container\">\n",
              "      <div>\n",
              "<style scoped>\n",
              "    .dataframe tbody tr th:only-of-type {\n",
              "        vertical-align: middle;\n",
              "    }\n",
              "\n",
              "    .dataframe tbody tr th {\n",
              "        vertical-align: top;\n",
              "    }\n",
              "\n",
              "    .dataframe thead th {\n",
              "        text-align: right;\n",
              "    }\n",
              "</style>\n",
              "<table border=\"1\" class=\"dataframe\">\n",
              "  <thead>\n",
              "    <tr style=\"text-align: right;\">\n",
              "      <th></th>\n",
              "      <th>title</th>\n",
              "      <th>text</th>\n",
              "      <th>subject</th>\n",
              "      <th>date</th>\n",
              "      <th>publisher</th>\n",
              "    </tr>\n",
              "  </thead>\n",
              "  <tbody>\n",
              "    <tr>\n",
              "      <th>0</th>\n",
              "      <td>As U.S. budget fight looms, Republicans flip t...</td>\n",
              "      <td>The head of a conservative Republican faction ...</td>\n",
              "      <td>politicsNews</td>\n",
              "      <td>December 31, 2017</td>\n",
              "      <td>WASHINGTON (Reuters)</td>\n",
              "    </tr>\n",
              "    <tr>\n",
              "      <th>1</th>\n",
              "      <td>U.S. military to accept transgender recruits o...</td>\n",
              "      <td>Transgender people will be allowed for the fir...</td>\n",
              "      <td>politicsNews</td>\n",
              "      <td>December 29, 2017</td>\n",
              "      <td>WASHINGTON (Reuters)</td>\n",
              "    </tr>\n",
              "    <tr>\n",
              "      <th>2</th>\n",
              "      <td>Senior U.S. Republican senator: 'Let Mr. Muell...</td>\n",
              "      <td>The special counsel investigation of links bet...</td>\n",
              "      <td>politicsNews</td>\n",
              "      <td>December 31, 2017</td>\n",
              "      <td>WASHINGTON (Reuters)</td>\n",
              "    </tr>\n",
              "    <tr>\n",
              "      <th>3</th>\n",
              "      <td>FBI Russia probe helped by Australian diplomat...</td>\n",
              "      <td>Trump campaign adviser George Papadopoulos tol...</td>\n",
              "      <td>politicsNews</td>\n",
              "      <td>December 30, 2017</td>\n",
              "      <td>WASHINGTON (Reuters)</td>\n",
              "    </tr>\n",
              "    <tr>\n",
              "      <th>4</th>\n",
              "      <td>Trump wants Postal Service to charge 'much mor...</td>\n",
              "      <td>President Donald Trump called on the U.S. Post...</td>\n",
              "      <td>politicsNews</td>\n",
              "      <td>December 29, 2017</td>\n",
              "      <td>SEATTLE/WASHINGTON (Reuters)</td>\n",
              "    </tr>\n",
              "  </tbody>\n",
              "</table>\n",
              "</div>\n",
              "      <button class=\"colab-df-convert\" onclick=\"convertToInteractive('df-313137f7-60d2-4b40-b8d9-0f34c2fa6670')\"\n",
              "              title=\"Convert this dataframe to an interactive table.\"\n",
              "              style=\"display:none;\">\n",
              "        \n",
              "  <svg xmlns=\"http://www.w3.org/2000/svg\" height=\"24px\"viewBox=\"0 0 24 24\"\n",
              "       width=\"24px\">\n",
              "    <path d=\"M0 0h24v24H0V0z\" fill=\"none\"/>\n",
              "    <path d=\"M18.56 5.44l.94 2.06.94-2.06 2.06-.94-2.06-.94-.94-2.06-.94 2.06-2.06.94zm-11 1L8.5 8.5l.94-2.06 2.06-.94-2.06-.94L8.5 2.5l-.94 2.06-2.06.94zm10 10l.94 2.06.94-2.06 2.06-.94-2.06-.94-.94-2.06-.94 2.06-2.06.94z\"/><path d=\"M17.41 7.96l-1.37-1.37c-.4-.4-.92-.59-1.43-.59-.52 0-1.04.2-1.43.59L10.3 9.45l-7.72 7.72c-.78.78-.78 2.05 0 2.83L4 21.41c.39.39.9.59 1.41.59.51 0 1.02-.2 1.41-.59l7.78-7.78 2.81-2.81c.8-.78.8-2.07 0-2.86zM5.41 20L4 18.59l7.72-7.72 1.47 1.35L5.41 20z\"/>\n",
              "  </svg>\n",
              "      </button>\n",
              "      \n",
              "  <style>\n",
              "    .colab-df-container {\n",
              "      display:flex;\n",
              "      flex-wrap:wrap;\n",
              "      gap: 12px;\n",
              "    }\n",
              "\n",
              "    .colab-df-convert {\n",
              "      background-color: #E8F0FE;\n",
              "      border: none;\n",
              "      border-radius: 50%;\n",
              "      cursor: pointer;\n",
              "      display: none;\n",
              "      fill: #1967D2;\n",
              "      height: 32px;\n",
              "      padding: 0 0 0 0;\n",
              "      width: 32px;\n",
              "    }\n",
              "\n",
              "    .colab-df-convert:hover {\n",
              "      background-color: #E2EBFA;\n",
              "      box-shadow: 0px 1px 2px rgba(60, 64, 67, 0.3), 0px 1px 3px 1px rgba(60, 64, 67, 0.15);\n",
              "      fill: #174EA6;\n",
              "    }\n",
              "\n",
              "    [theme=dark] .colab-df-convert {\n",
              "      background-color: #3B4455;\n",
              "      fill: #D2E3FC;\n",
              "    }\n",
              "\n",
              "    [theme=dark] .colab-df-convert:hover {\n",
              "      background-color: #434B5C;\n",
              "      box-shadow: 0px 1px 3px 1px rgba(0, 0, 0, 0.15);\n",
              "      filter: drop-shadow(0px 1px 2px rgba(0, 0, 0, 0.3));\n",
              "      fill: #FFFFFF;\n",
              "    }\n",
              "  </style>\n",
              "\n",
              "      <script>\n",
              "        const buttonEl =\n",
              "          document.querySelector('#df-313137f7-60d2-4b40-b8d9-0f34c2fa6670 button.colab-df-convert');\n",
              "        buttonEl.style.display =\n",
              "          google.colab.kernel.accessAllowed ? 'block' : 'none';\n",
              "\n",
              "        async function convertToInteractive(key) {\n",
              "          const element = document.querySelector('#df-313137f7-60d2-4b40-b8d9-0f34c2fa6670');\n",
              "          const dataTable =\n",
              "            await google.colab.kernel.invokeFunction('convertToInteractive',\n",
              "                                                     [key], {});\n",
              "          if (!dataTable) return;\n",
              "\n",
              "          const docLinkHtml = 'Like what you see? Visit the ' +\n",
              "            '<a target=\"_blank\" href=https://colab.research.google.com/notebooks/data_table.ipynb>data table notebook</a>'\n",
              "            + ' to learn more about interactive tables.';\n",
              "          element.innerHTML = '';\n",
              "          dataTable['output_type'] = 'display_data';\n",
              "          await google.colab.output.renderOutput(dataTable, element);\n",
              "          const docLink = document.createElement('div');\n",
              "          docLink.innerHTML = docLinkHtml;\n",
              "          element.appendChild(docLink);\n",
              "        }\n",
              "      </script>\n",
              "    </div>\n",
              "  </div>\n",
              "  "
            ]
          },
          "metadata": {},
          "execution_count": 164
        }
      ]
    },
    {
      "cell_type": "code",
      "source": [
        "true.shape\n"
      ],
      "metadata": {
        "colab": {
          "base_uri": "https://localhost:8080/"
        },
        "id": "dQdBPRk5WE27",
        "outputId": "7a922a58-a132-4969-88ce-96cf102ba5fd"
      },
      "execution_count": null,
      "outputs": [
        {
          "output_type": "execute_result",
          "data": {
            "text/plain": [
              "(21416, 5)"
            ]
          },
          "metadata": {},
          "execution_count": 165
        }
      ]
    },
    {
      "cell_type": "code",
      "source": [
        "empty_fake_list = [index for index, text in enumerate(fake.text.tolist()) if str(text).strip==\"\" ]"
      ],
      "metadata": {
        "id": "5vdozQeSWE5n"
      },
      "execution_count": null,
      "outputs": []
    },
    {
      "cell_type": "code",
      "source": [
        "fake.iloc[empty_fake_list]"
      ],
      "metadata": {
        "colab": {
          "base_uri": "https://localhost:8080/",
          "height": 49
        },
        "id": "J3Gp_7NgWE8d",
        "outputId": "85405a8b-4862-4ea5-fd7a-668336c6f248"
      },
      "execution_count": null,
      "outputs": [
        {
          "output_type": "execute_result",
          "data": {
            "text/plain": [
              "Empty DataFrame\n",
              "Columns: [title, text, subject, date]\n",
              "Index: []"
            ],
            "text/html": [
              "\n",
              "  <div id=\"df-08b619c6-d51d-4d02-9120-f676fa172a5d\">\n",
              "    <div class=\"colab-df-container\">\n",
              "      <div>\n",
              "<style scoped>\n",
              "    .dataframe tbody tr th:only-of-type {\n",
              "        vertical-align: middle;\n",
              "    }\n",
              "\n",
              "    .dataframe tbody tr th {\n",
              "        vertical-align: top;\n",
              "    }\n",
              "\n",
              "    .dataframe thead th {\n",
              "        text-align: right;\n",
              "    }\n",
              "</style>\n",
              "<table border=\"1\" class=\"dataframe\">\n",
              "  <thead>\n",
              "    <tr style=\"text-align: right;\">\n",
              "      <th></th>\n",
              "      <th>title</th>\n",
              "      <th>text</th>\n",
              "      <th>subject</th>\n",
              "      <th>date</th>\n",
              "    </tr>\n",
              "  </thead>\n",
              "  <tbody>\n",
              "  </tbody>\n",
              "</table>\n",
              "</div>\n",
              "      <button class=\"colab-df-convert\" onclick=\"convertToInteractive('df-08b619c6-d51d-4d02-9120-f676fa172a5d')\"\n",
              "              title=\"Convert this dataframe to an interactive table.\"\n",
              "              style=\"display:none;\">\n",
              "        \n",
              "  <svg xmlns=\"http://www.w3.org/2000/svg\" height=\"24px\"viewBox=\"0 0 24 24\"\n",
              "       width=\"24px\">\n",
              "    <path d=\"M0 0h24v24H0V0z\" fill=\"none\"/>\n",
              "    <path d=\"M18.56 5.44l.94 2.06.94-2.06 2.06-.94-2.06-.94-.94-2.06-.94 2.06-2.06.94zm-11 1L8.5 8.5l.94-2.06 2.06-.94-2.06-.94L8.5 2.5l-.94 2.06-2.06.94zm10 10l.94 2.06.94-2.06 2.06-.94-2.06-.94-.94-2.06-.94 2.06-2.06.94z\"/><path d=\"M17.41 7.96l-1.37-1.37c-.4-.4-.92-.59-1.43-.59-.52 0-1.04.2-1.43.59L10.3 9.45l-7.72 7.72c-.78.78-.78 2.05 0 2.83L4 21.41c.39.39.9.59 1.41.59.51 0 1.02-.2 1.41-.59l7.78-7.78 2.81-2.81c.8-.78.8-2.07 0-2.86zM5.41 20L4 18.59l7.72-7.72 1.47 1.35L5.41 20z\"/>\n",
              "  </svg>\n",
              "      </button>\n",
              "      \n",
              "  <style>\n",
              "    .colab-df-container {\n",
              "      display:flex;\n",
              "      flex-wrap:wrap;\n",
              "      gap: 12px;\n",
              "    }\n",
              "\n",
              "    .colab-df-convert {\n",
              "      background-color: #E8F0FE;\n",
              "      border: none;\n",
              "      border-radius: 50%;\n",
              "      cursor: pointer;\n",
              "      display: none;\n",
              "      fill: #1967D2;\n",
              "      height: 32px;\n",
              "      padding: 0 0 0 0;\n",
              "      width: 32px;\n",
              "    }\n",
              "\n",
              "    .colab-df-convert:hover {\n",
              "      background-color: #E2EBFA;\n",
              "      box-shadow: 0px 1px 2px rgba(60, 64, 67, 0.3), 0px 1px 3px 1px rgba(60, 64, 67, 0.15);\n",
              "      fill: #174EA6;\n",
              "    }\n",
              "\n",
              "    [theme=dark] .colab-df-convert {\n",
              "      background-color: #3B4455;\n",
              "      fill: #D2E3FC;\n",
              "    }\n",
              "\n",
              "    [theme=dark] .colab-df-convert:hover {\n",
              "      background-color: #434B5C;\n",
              "      box-shadow: 0px 1px 3px 1px rgba(0, 0, 0, 0.15);\n",
              "      filter: drop-shadow(0px 1px 2px rgba(0, 0, 0, 0.3));\n",
              "      fill: #FFFFFF;\n",
              "    }\n",
              "  </style>\n",
              "\n",
              "      <script>\n",
              "        const buttonEl =\n",
              "          document.querySelector('#df-08b619c6-d51d-4d02-9120-f676fa172a5d button.colab-df-convert');\n",
              "        buttonEl.style.display =\n",
              "          google.colab.kernel.accessAllowed ? 'block' : 'none';\n",
              "\n",
              "        async function convertToInteractive(key) {\n",
              "          const element = document.querySelector('#df-08b619c6-d51d-4d02-9120-f676fa172a5d');\n",
              "          const dataTable =\n",
              "            await google.colab.kernel.invokeFunction('convertToInteractive',\n",
              "                                                     [key], {});\n",
              "          if (!dataTable) return;\n",
              "\n",
              "          const docLinkHtml = 'Like what you see? Visit the ' +\n",
              "            '<a target=\"_blank\" href=https://colab.research.google.com/notebooks/data_table.ipynb>data table notebook</a>'\n",
              "            + ' to learn more about interactive tables.';\n",
              "          element.innerHTML = '';\n",
              "          dataTable['output_type'] = 'display_data';\n",
              "          await google.colab.output.renderOutput(dataTable, element);\n",
              "          const docLink = document.createElement('div');\n",
              "          docLink.innerHTML = docLinkHtml;\n",
              "          element.appendChild(docLink);\n",
              "        }\n",
              "      </script>\n",
              "    </div>\n",
              "  </div>\n",
              "  "
            ]
          },
          "metadata": {},
          "execution_count": 167
        }
      ]
    },
    {
      "cell_type": "code",
      "source": [
        "true['text'] = true['title'] + \" \" + true['text']\n",
        "fake['text'] = fake['title'] + \" \" + fake['text']"
      ],
      "metadata": {
        "id": "FqxYqPkXWE_n"
      },
      "execution_count": null,
      "outputs": []
    },
    {
      "cell_type": "code",
      "source": [
        "true['text'] = true['text'].apply(lambda x: str(x).lower())\n",
        "fake['text'] = fake['text'].apply(lambda x: str(x).lower())"
      ],
      "metadata": {
        "id": "pS4sltRvWFCQ"
      },
      "execution_count": null,
      "outputs": []
    },
    {
      "cell_type": "markdown",
      "source": [
        "PREPROCESSING OF DATA"
      ],
      "metadata": {
        "id": "Vpp9Vc30-EgR"
      }
    },
    {
      "cell_type": "code",
      "source": [
        "true['class'] = 1\n",
        "fake['class'] = 0\n"
      ],
      "metadata": {
        "id": "0w_tASXeWFE-"
      },
      "execution_count": null,
      "outputs": []
    },
    {
      "cell_type": "code",
      "source": [
        "true = true[['text', 'class']]\n",
        "fake = fake[['text', 'class']]"
      ],
      "metadata": {
        "id": "3YiNwWhMWFHl"
      },
      "execution_count": null,
      "outputs": []
    },
    {
      "cell_type": "code",
      "source": [
        "data = true.append(fake, ignore_index=True)"
      ],
      "metadata": {
        "colab": {
          "base_uri": "https://localhost:8080/"
        },
        "id": "Fd0P4YVkWFKg",
        "outputId": "cd24b71e-27c3-4c83-d42b-8cd5d74c5c0c"
      },
      "execution_count": null,
      "outputs": [
        {
          "output_type": "stream",
          "name": "stderr",
          "text": [
            "<ipython-input-172-e9f60034c8a1>:1: FutureWarning: The frame.append method is deprecated and will be removed from pandas in a future version. Use pandas.concat instead.\n",
            "  data = true.append(fake, ignore_index=True)\n"
          ]
        }
      ]
    },
    {
      "cell_type": "code",
      "source": [
        "data.sample(6)"
      ],
      "metadata": {
        "colab": {
          "base_uri": "https://localhost:8080/",
          "height": 237
        },
        "id": "68HwR44yWFNL",
        "outputId": "85d2fd1b-dea3-4a9d-fd87-7d7c43b4aceb"
      },
      "execution_count": null,
      "outputs": [
        {
          "output_type": "execute_result",
          "data": {
            "text/plain": [
              "                                                    text  class\n",
              "40271  yikes! hillary still needs help walking on sta...      0\n",
              "8901   trump to meet indiana governor mike pence over...      1\n",
              "36698  brilliant: [video] sheriff clarke explains how...      0\n",
              "21102  germany's merkel ahead of spd rival in tv deba...      1\n",
              "40634  wow! refugees exposed: here’s the cold hard tr...      0\n",
              "18963  rights group accuses myanmar of crimes against...      1"
            ],
            "text/html": [
              "\n",
              "  <div id=\"df-5d1e2b38-0146-4a99-a2ab-d9642a37b407\">\n",
              "    <div class=\"colab-df-container\">\n",
              "      <div>\n",
              "<style scoped>\n",
              "    .dataframe tbody tr th:only-of-type {\n",
              "        vertical-align: middle;\n",
              "    }\n",
              "\n",
              "    .dataframe tbody tr th {\n",
              "        vertical-align: top;\n",
              "    }\n",
              "\n",
              "    .dataframe thead th {\n",
              "        text-align: right;\n",
              "    }\n",
              "</style>\n",
              "<table border=\"1\" class=\"dataframe\">\n",
              "  <thead>\n",
              "    <tr style=\"text-align: right;\">\n",
              "      <th></th>\n",
              "      <th>text</th>\n",
              "      <th>class</th>\n",
              "    </tr>\n",
              "  </thead>\n",
              "  <tbody>\n",
              "    <tr>\n",
              "      <th>40271</th>\n",
              "      <td>yikes! hillary still needs help walking on sta...</td>\n",
              "      <td>0</td>\n",
              "    </tr>\n",
              "    <tr>\n",
              "      <th>8901</th>\n",
              "      <td>trump to meet indiana governor mike pence over...</td>\n",
              "      <td>1</td>\n",
              "    </tr>\n",
              "    <tr>\n",
              "      <th>36698</th>\n",
              "      <td>brilliant: [video] sheriff clarke explains how...</td>\n",
              "      <td>0</td>\n",
              "    </tr>\n",
              "    <tr>\n",
              "      <th>21102</th>\n",
              "      <td>germany's merkel ahead of spd rival in tv deba...</td>\n",
              "      <td>1</td>\n",
              "    </tr>\n",
              "    <tr>\n",
              "      <th>40634</th>\n",
              "      <td>wow! refugees exposed: here’s the cold hard tr...</td>\n",
              "      <td>0</td>\n",
              "    </tr>\n",
              "    <tr>\n",
              "      <th>18963</th>\n",
              "      <td>rights group accuses myanmar of crimes against...</td>\n",
              "      <td>1</td>\n",
              "    </tr>\n",
              "  </tbody>\n",
              "</table>\n",
              "</div>\n",
              "      <button class=\"colab-df-convert\" onclick=\"convertToInteractive('df-5d1e2b38-0146-4a99-a2ab-d9642a37b407')\"\n",
              "              title=\"Convert this dataframe to an interactive table.\"\n",
              "              style=\"display:none;\">\n",
              "        \n",
              "  <svg xmlns=\"http://www.w3.org/2000/svg\" height=\"24px\"viewBox=\"0 0 24 24\"\n",
              "       width=\"24px\">\n",
              "    <path d=\"M0 0h24v24H0V0z\" fill=\"none\"/>\n",
              "    <path d=\"M18.56 5.44l.94 2.06.94-2.06 2.06-.94-2.06-.94-.94-2.06-.94 2.06-2.06.94zm-11 1L8.5 8.5l.94-2.06 2.06-.94-2.06-.94L8.5 2.5l-.94 2.06-2.06.94zm10 10l.94 2.06.94-2.06 2.06-.94-2.06-.94-.94-2.06-.94 2.06-2.06.94z\"/><path d=\"M17.41 7.96l-1.37-1.37c-.4-.4-.92-.59-1.43-.59-.52 0-1.04.2-1.43.59L10.3 9.45l-7.72 7.72c-.78.78-.78 2.05 0 2.83L4 21.41c.39.39.9.59 1.41.59.51 0 1.02-.2 1.41-.59l7.78-7.78 2.81-2.81c.8-.78.8-2.07 0-2.86zM5.41 20L4 18.59l7.72-7.72 1.47 1.35L5.41 20z\"/>\n",
              "  </svg>\n",
              "      </button>\n",
              "      \n",
              "  <style>\n",
              "    .colab-df-container {\n",
              "      display:flex;\n",
              "      flex-wrap:wrap;\n",
              "      gap: 12px;\n",
              "    }\n",
              "\n",
              "    .colab-df-convert {\n",
              "      background-color: #E8F0FE;\n",
              "      border: none;\n",
              "      border-radius: 50%;\n",
              "      cursor: pointer;\n",
              "      display: none;\n",
              "      fill: #1967D2;\n",
              "      height: 32px;\n",
              "      padding: 0 0 0 0;\n",
              "      width: 32px;\n",
              "    }\n",
              "\n",
              "    .colab-df-convert:hover {\n",
              "      background-color: #E2EBFA;\n",
              "      box-shadow: 0px 1px 2px rgba(60, 64, 67, 0.3), 0px 1px 3px 1px rgba(60, 64, 67, 0.15);\n",
              "      fill: #174EA6;\n",
              "    }\n",
              "\n",
              "    [theme=dark] .colab-df-convert {\n",
              "      background-color: #3B4455;\n",
              "      fill: #D2E3FC;\n",
              "    }\n",
              "\n",
              "    [theme=dark] .colab-df-convert:hover {\n",
              "      background-color: #434B5C;\n",
              "      box-shadow: 0px 1px 3px 1px rgba(0, 0, 0, 0.15);\n",
              "      filter: drop-shadow(0px 1px 2px rgba(0, 0, 0, 0.3));\n",
              "      fill: #FFFFFF;\n",
              "    }\n",
              "  </style>\n",
              "\n",
              "      <script>\n",
              "        const buttonEl =\n",
              "          document.querySelector('#df-5d1e2b38-0146-4a99-a2ab-d9642a37b407 button.colab-df-convert');\n",
              "        buttonEl.style.display =\n",
              "          google.colab.kernel.accessAllowed ? 'block' : 'none';\n",
              "\n",
              "        async function convertToInteractive(key) {\n",
              "          const element = document.querySelector('#df-5d1e2b38-0146-4a99-a2ab-d9642a37b407');\n",
              "          const dataTable =\n",
              "            await google.colab.kernel.invokeFunction('convertToInteractive',\n",
              "                                                     [key], {});\n",
              "          if (!dataTable) return;\n",
              "\n",
              "          const docLinkHtml = 'Like what you see? Visit the ' +\n",
              "            '<a target=\"_blank\" href=https://colab.research.google.com/notebooks/data_table.ipynb>data table notebook</a>'\n",
              "            + ' to learn more about interactive tables.';\n",
              "          element.innerHTML = '';\n",
              "          dataTable['output_type'] = 'display_data';\n",
              "          await google.colab.output.renderOutput(dataTable, element);\n",
              "          const docLink = document.createElement('div');\n",
              "          docLink.innerHTML = docLinkHtml;\n",
              "          element.appendChild(docLink);\n",
              "        }\n",
              "      </script>\n",
              "    </div>\n",
              "  </div>\n",
              "  "
            ]
          },
          "metadata": {},
          "execution_count": 173
        }
      ]
    },
    {
      "cell_type": "code",
      "source": [
        "!pip install spacy\n",
        "!python -m spacy download en_core_web_sm\n",
        "!pip install beautifulsoup4\n",
        "!pip install textblob\n",
        "!pip install git+https://github.com/laxmimerit/preprocess_kgptalkie.git --upgrade --force-reinstall"
      ],
      "metadata": {
        "colab": {
          "base_uri": "https://localhost:8080/",
          "height": 1000
        },
        "id": "4h7ZhY72WFQG",
        "outputId": "69639aef-b6ac-4f23-fe9f-e9a253e0e44c"
      },
      "execution_count": null,
      "outputs": [
        {
          "output_type": "stream",
          "name": "stdout",
          "text": [
            "Looking in indexes: https://pypi.org/simple, https://us-python.pkg.dev/colab-wheels/public/simple/\n",
            "Requirement already satisfied: spacy in /usr/local/lib/python3.10/dist-packages (3.5.2)\n",
            "Requirement already satisfied: tqdm<5.0.0,>=4.38.0 in /usr/local/lib/python3.10/dist-packages (from spacy) (4.65.0)\n",
            "Requirement already satisfied: spacy-legacy<3.1.0,>=3.0.11 in /usr/local/lib/python3.10/dist-packages (from spacy) (3.0.12)\n",
            "Requirement already satisfied: cymem<2.1.0,>=2.0.2 in /usr/local/lib/python3.10/dist-packages (from spacy) (2.0.7)\n",
            "Requirement already satisfied: srsly<3.0.0,>=2.4.3 in /usr/local/lib/python3.10/dist-packages (from spacy) (2.4.6)\n",
            "Requirement already satisfied: pathy>=0.10.0 in /usr/local/lib/python3.10/dist-packages (from spacy) (0.10.1)\n",
            "Requirement already satisfied: catalogue<2.1.0,>=2.0.6 in /usr/local/lib/python3.10/dist-packages (from spacy) (2.0.8)\n",
            "Requirement already satisfied: requests<3.0.0,>=2.13.0 in /usr/local/lib/python3.10/dist-packages (from spacy) (2.27.1)\n",
            "Requirement already satisfied: wasabi<1.2.0,>=0.9.1 in /usr/local/lib/python3.10/dist-packages (from spacy) (1.1.1)\n",
            "Requirement already satisfied: preshed<3.1.0,>=3.0.2 in /usr/local/lib/python3.10/dist-packages (from spacy) (3.0.8)\n",
            "Requirement already satisfied: thinc<8.2.0,>=8.1.8 in /usr/local/lib/python3.10/dist-packages (from spacy) (8.1.9)\n",
            "Requirement already satisfied: jinja2 in /usr/local/lib/python3.10/dist-packages (from spacy) (3.1.2)\n",
            "Requirement already satisfied: smart-open<7.0.0,>=5.2.1 in /usr/local/lib/python3.10/dist-packages (from spacy) (6.3.0)\n",
            "Requirement already satisfied: langcodes<4.0.0,>=3.2.0 in /usr/local/lib/python3.10/dist-packages (from spacy) (3.3.0)\n",
            "Requirement already satisfied: numpy>=1.15.0 in /usr/local/lib/python3.10/dist-packages (from spacy) (1.22.4)\n",
            "Requirement already satisfied: typer<0.8.0,>=0.3.0 in /usr/local/lib/python3.10/dist-packages (from spacy) (0.7.0)\n",
            "Requirement already satisfied: setuptools in /usr/local/lib/python3.10/dist-packages (from spacy) (67.7.2)\n",
            "Requirement already satisfied: murmurhash<1.1.0,>=0.28.0 in /usr/local/lib/python3.10/dist-packages (from spacy) (1.0.9)\n",
            "Requirement already satisfied: packaging>=20.0 in /usr/local/lib/python3.10/dist-packages (from spacy) (23.1)\n",
            "Requirement already satisfied: spacy-loggers<2.0.0,>=1.0.0 in /usr/local/lib/python3.10/dist-packages (from spacy) (1.0.4)\n",
            "Requirement already satisfied: pydantic!=1.8,!=1.8.1,<1.11.0,>=1.7.4 in /usr/local/lib/python3.10/dist-packages (from spacy) (1.10.7)\n",
            "Requirement already satisfied: typing-extensions>=4.2.0 in /usr/local/lib/python3.10/dist-packages (from pydantic!=1.8,!=1.8.1,<1.11.0,>=1.7.4->spacy) (4.5.0)\n",
            "Requirement already satisfied: charset-normalizer~=2.0.0 in /usr/local/lib/python3.10/dist-packages (from requests<3.0.0,>=2.13.0->spacy) (2.0.12)\n",
            "Requirement already satisfied: certifi>=2017.4.17 in /usr/local/lib/python3.10/dist-packages (from requests<3.0.0,>=2.13.0->spacy) (2022.12.7)\n",
            "Requirement already satisfied: urllib3<1.27,>=1.21.1 in /usr/local/lib/python3.10/dist-packages (from requests<3.0.0,>=2.13.0->spacy) (1.26.15)\n",
            "Requirement already satisfied: idna<4,>=2.5 in /usr/local/lib/python3.10/dist-packages (from requests<3.0.0,>=2.13.0->spacy) (3.4)\n",
            "Requirement already satisfied: confection<1.0.0,>=0.0.1 in /usr/local/lib/python3.10/dist-packages (from thinc<8.2.0,>=8.1.8->spacy) (0.0.4)\n",
            "Requirement already satisfied: blis<0.8.0,>=0.7.8 in /usr/local/lib/python3.10/dist-packages (from thinc<8.2.0,>=8.1.8->spacy) (0.7.9)\n",
            "Requirement already satisfied: click<9.0.0,>=7.1.1 in /usr/local/lib/python3.10/dist-packages (from typer<0.8.0,>=0.3.0->spacy) (8.1.3)\n",
            "Requirement already satisfied: MarkupSafe>=2.0 in /usr/local/lib/python3.10/dist-packages (from jinja2->spacy) (2.1.2)\n",
            "2023-04-27 20:10:00.870264: W tensorflow/compiler/tf2tensorrt/utils/py_utils.cc:38] TF-TRT Warning: Could not find TensorRT\n",
            "Looking in indexes: https://pypi.org/simple, https://us-python.pkg.dev/colab-wheels/public/simple/\n",
            "Collecting en-core-web-sm==3.5.0\n",
            "  Downloading https://github.com/explosion/spacy-models/releases/download/en_core_web_sm-3.5.0/en_core_web_sm-3.5.0-py3-none-any.whl (12.8 MB)\n",
            "\u001b[2K     \u001b[90m━━━━━━━━━━━━━━━━━━━━━━━━━━━━━━━━━━━━━━━━\u001b[0m \u001b[32m12.8/12.8 MB\u001b[0m \u001b[31m39.7 MB/s\u001b[0m eta \u001b[36m0:00:00\u001b[0m\n",
            "\u001b[?25hRequirement already satisfied: spacy<3.6.0,>=3.5.0 in /usr/local/lib/python3.10/dist-packages (from en-core-web-sm==3.5.0) (3.5.2)\n",
            "Requirement already satisfied: wasabi<1.2.0,>=0.9.1 in /usr/local/lib/python3.10/dist-packages (from spacy<3.6.0,>=3.5.0->en-core-web-sm==3.5.0) (1.1.1)\n",
            "Requirement already satisfied: spacy-loggers<2.0.0,>=1.0.0 in /usr/local/lib/python3.10/dist-packages (from spacy<3.6.0,>=3.5.0->en-core-web-sm==3.5.0) (1.0.4)\n",
            "Requirement already satisfied: tqdm<5.0.0,>=4.38.0 in /usr/local/lib/python3.10/dist-packages (from spacy<3.6.0,>=3.5.0->en-core-web-sm==3.5.0) (4.65.0)\n",
            "Requirement already satisfied: preshed<3.1.0,>=3.0.2 in /usr/local/lib/python3.10/dist-packages (from spacy<3.6.0,>=3.5.0->en-core-web-sm==3.5.0) (3.0.8)\n",
            "Requirement already satisfied: packaging>=20.0 in /usr/local/lib/python3.10/dist-packages (from spacy<3.6.0,>=3.5.0->en-core-web-sm==3.5.0) (23.1)\n",
            "Requirement already satisfied: murmurhash<1.1.0,>=0.28.0 in /usr/local/lib/python3.10/dist-packages (from spacy<3.6.0,>=3.5.0->en-core-web-sm==3.5.0) (1.0.9)\n",
            "Requirement already satisfied: pathy>=0.10.0 in /usr/local/lib/python3.10/dist-packages (from spacy<3.6.0,>=3.5.0->en-core-web-sm==3.5.0) (0.10.1)\n",
            "Requirement already satisfied: typer<0.8.0,>=0.3.0 in /usr/local/lib/python3.10/dist-packages (from spacy<3.6.0,>=3.5.0->en-core-web-sm==3.5.0) (0.7.0)\n",
            "Requirement already satisfied: langcodes<4.0.0,>=3.2.0 in /usr/local/lib/python3.10/dist-packages (from spacy<3.6.0,>=3.5.0->en-core-web-sm==3.5.0) (3.3.0)\n",
            "Requirement already satisfied: spacy-legacy<3.1.0,>=3.0.11 in /usr/local/lib/python3.10/dist-packages (from spacy<3.6.0,>=3.5.0->en-core-web-sm==3.5.0) (3.0.12)\n",
            "Requirement already satisfied: thinc<8.2.0,>=8.1.8 in /usr/local/lib/python3.10/dist-packages (from spacy<3.6.0,>=3.5.0->en-core-web-sm==3.5.0) (8.1.9)\n",
            "Requirement already satisfied: setuptools in /usr/local/lib/python3.10/dist-packages (from spacy<3.6.0,>=3.5.0->en-core-web-sm==3.5.0) (67.7.2)\n",
            "Requirement already satisfied: srsly<3.0.0,>=2.4.3 in /usr/local/lib/python3.10/dist-packages (from spacy<3.6.0,>=3.5.0->en-core-web-sm==3.5.0) (2.4.6)\n",
            "Requirement already satisfied: cymem<2.1.0,>=2.0.2 in /usr/local/lib/python3.10/dist-packages (from spacy<3.6.0,>=3.5.0->en-core-web-sm==3.5.0) (2.0.7)\n",
            "Requirement already satisfied: jinja2 in /usr/local/lib/python3.10/dist-packages (from spacy<3.6.0,>=3.5.0->en-core-web-sm==3.5.0) (3.1.2)\n",
            "Requirement already satisfied: smart-open<7.0.0,>=5.2.1 in /usr/local/lib/python3.10/dist-packages (from spacy<3.6.0,>=3.5.0->en-core-web-sm==3.5.0) (6.3.0)\n",
            "Requirement already satisfied: catalogue<2.1.0,>=2.0.6 in /usr/local/lib/python3.10/dist-packages (from spacy<3.6.0,>=3.5.0->en-core-web-sm==3.5.0) (2.0.8)\n",
            "Requirement already satisfied: numpy>=1.15.0 in /usr/local/lib/python3.10/dist-packages (from spacy<3.6.0,>=3.5.0->en-core-web-sm==3.5.0) (1.22.4)\n",
            "Requirement already satisfied: requests<3.0.0,>=2.13.0 in /usr/local/lib/python3.10/dist-packages (from spacy<3.6.0,>=3.5.0->en-core-web-sm==3.5.0) (2.27.1)\n",
            "Requirement already satisfied: pydantic!=1.8,!=1.8.1,<1.11.0,>=1.7.4 in /usr/local/lib/python3.10/dist-packages (from spacy<3.6.0,>=3.5.0->en-core-web-sm==3.5.0) (1.10.7)\n",
            "Requirement already satisfied: typing-extensions>=4.2.0 in /usr/local/lib/python3.10/dist-packages (from pydantic!=1.8,!=1.8.1,<1.11.0,>=1.7.4->spacy<3.6.0,>=3.5.0->en-core-web-sm==3.5.0) (4.5.0)\n",
            "Requirement already satisfied: certifi>=2017.4.17 in /usr/local/lib/python3.10/dist-packages (from requests<3.0.0,>=2.13.0->spacy<3.6.0,>=3.5.0->en-core-web-sm==3.5.0) (2022.12.7)\n",
            "Requirement already satisfied: urllib3<1.27,>=1.21.1 in /usr/local/lib/python3.10/dist-packages (from requests<3.0.0,>=2.13.0->spacy<3.6.0,>=3.5.0->en-core-web-sm==3.5.0) (1.26.15)\n",
            "Requirement already satisfied: idna<4,>=2.5 in /usr/local/lib/python3.10/dist-packages (from requests<3.0.0,>=2.13.0->spacy<3.6.0,>=3.5.0->en-core-web-sm==3.5.0) (3.4)\n",
            "Requirement already satisfied: charset-normalizer~=2.0.0 in /usr/local/lib/python3.10/dist-packages (from requests<3.0.0,>=2.13.0->spacy<3.6.0,>=3.5.0->en-core-web-sm==3.5.0) (2.0.12)\n",
            "Requirement already satisfied: confection<1.0.0,>=0.0.1 in /usr/local/lib/python3.10/dist-packages (from thinc<8.2.0,>=8.1.8->spacy<3.6.0,>=3.5.0->en-core-web-sm==3.5.0) (0.0.4)\n",
            "Requirement already satisfied: blis<0.8.0,>=0.7.8 in /usr/local/lib/python3.10/dist-packages (from thinc<8.2.0,>=8.1.8->spacy<3.6.0,>=3.5.0->en-core-web-sm==3.5.0) (0.7.9)\n",
            "Requirement already satisfied: click<9.0.0,>=7.1.1 in /usr/local/lib/python3.10/dist-packages (from typer<0.8.0,>=0.3.0->spacy<3.6.0,>=3.5.0->en-core-web-sm==3.5.0) (8.1.3)\n",
            "Requirement already satisfied: MarkupSafe>=2.0 in /usr/local/lib/python3.10/dist-packages (from jinja2->spacy<3.6.0,>=3.5.0->en-core-web-sm==3.5.0) (2.1.2)\n",
            "\u001b[38;5;2m✔ Download and installation successful\u001b[0m\n",
            "You can now load the package via spacy.load('en_core_web_sm')\n",
            "Looking in indexes: https://pypi.org/simple, https://us-python.pkg.dev/colab-wheels/public/simple/\n",
            "Requirement already satisfied: beautifulsoup4 in /usr/local/lib/python3.10/dist-packages (4.9.1)\n",
            "Requirement already satisfied: soupsieve>1.2 in /usr/local/lib/python3.10/dist-packages (from beautifulsoup4) (2.4.1)\n",
            "Looking in indexes: https://pypi.org/simple, https://us-python.pkg.dev/colab-wheels/public/simple/\n",
            "Requirement already satisfied: textblob in /usr/local/lib/python3.10/dist-packages (0.15.3)\n",
            "Requirement already satisfied: nltk>=3.1 in /usr/local/lib/python3.10/dist-packages (from textblob) (3.8.1)\n",
            "Requirement already satisfied: regex>=2021.8.3 in /usr/local/lib/python3.10/dist-packages (from nltk>=3.1->textblob) (2022.10.31)\n",
            "Requirement already satisfied: joblib in /usr/local/lib/python3.10/dist-packages (from nltk>=3.1->textblob) (1.2.0)\n",
            "Requirement already satisfied: click in /usr/local/lib/python3.10/dist-packages (from nltk>=3.1->textblob) (8.1.3)\n",
            "Requirement already satisfied: tqdm in /usr/local/lib/python3.10/dist-packages (from nltk>=3.1->textblob) (4.65.0)\n",
            "Looking in indexes: https://pypi.org/simple, https://us-python.pkg.dev/colab-wheels/public/simple/\n",
            "Collecting git+https://github.com/laxmimerit/preprocess_kgptalkie.git\n",
            "  Cloning https://github.com/laxmimerit/preprocess_kgptalkie.git to /tmp/pip-req-build-b37z_1yd\n",
            "  Running command git clone --filter=blob:none --quiet https://github.com/laxmimerit/preprocess_kgptalkie.git /tmp/pip-req-build-b37z_1yd\n",
            "  Resolved https://github.com/laxmimerit/preprocess_kgptalkie.git to commit 9ca68d37027af9f6a30d54640347ce3b2e2694b3\n",
            "  Preparing metadata (setup.py) ... \u001b[?25l\u001b[?25hdone\n",
            "Building wheels for collected packages: preprocess-kgptalkie\n",
            "  Building wheel for preprocess-kgptalkie (setup.py) ... \u001b[?25l\u001b[?25hdone\n",
            "  Created wheel for preprocess-kgptalkie: filename=preprocess_kgptalkie-0.1.3-py3-none-any.whl size=7639 sha256=0f6d56e95a7a36974656edae03721f3371f543839328217e7670ceccbc640f02\n",
            "  Stored in directory: /tmp/pip-ephem-wheel-cache-hwhylk58/wheels/5c/94/34/99d5ff65e88b8d9a6c5e8d8652f2311d87790a61a1b7466e21\n",
            "Successfully built preprocess-kgptalkie\n",
            "Installing collected packages: preprocess-kgptalkie\n",
            "  Attempting uninstall: preprocess-kgptalkie\n",
            "    Found existing installation: preprocess-kgptalkie 0.1.3\n",
            "    Uninstalling preprocess-kgptalkie-0.1.3:\n",
            "      Successfully uninstalled preprocess-kgptalkie-0.1.3\n",
            "Successfully installed preprocess-kgptalkie-0.1.3\n"
          ]
        },
        {
          "output_type": "display_data",
          "data": {
            "application/vnd.colab-display-data+json": {
              "pip_warning": {
                "packages": [
                  "preprocess_kgptalkie"
                ]
              }
            }
          },
          "metadata": {}
        }
      ]
    },
    {
      "cell_type": "code",
      "source": [
        "import preprocess_kgptalkie as ps"
      ],
      "metadata": {
        "id": "2VyVMRyvWFSv"
      },
      "execution_count": null,
      "outputs": []
    },
    {
      "cell_type": "code",
      "source": [
        "data['text'] = data['text'].apply(lambda x: ps.remove_special_chars(x))"
      ],
      "metadata": {
        "id": "4gTD8I95WFVd"
      },
      "execution_count": null,
      "outputs": []
    },
    {
      "cell_type": "code",
      "source": [
        "ps.remove_special_chars('this ,.# i$s a@maz!ing')"
      ],
      "metadata": {
        "colab": {
          "base_uri": "https://localhost:8080/",
          "height": 35
        },
        "id": "xJSK0_nJWFYI",
        "outputId": "fc20c7f0-8112-4283-f322-5231c43a99e6"
      },
      "execution_count": null,
      "outputs": [
        {
          "output_type": "execute_result",
          "data": {
            "text/plain": [
              "'this is amazing'"
            ],
            "application/vnd.google.colaboratory.intrinsic+json": {
              "type": "string"
            }
          },
          "metadata": {},
          "execution_count": 177
        }
      ]
    },
    {
      "cell_type": "markdown",
      "source": [
        "VECTORIZATION: WORD2VEC"
      ],
      "metadata": {
        "id": "siMYjeP_DZ3P"
      }
    },
    {
      "cell_type": "code",
      "source": [
        "import gensim"
      ],
      "metadata": {
        "id": "qnnles9iWFaq"
      },
      "execution_count": null,
      "outputs": []
    },
    {
      "cell_type": "code",
      "source": [
        "y = data['class'].values"
      ],
      "metadata": {
        "id": "4-2thunKWFdS"
      },
      "execution_count": null,
      "outputs": []
    },
    {
      "cell_type": "code",
      "source": [
        "X = [d.split() for d in data['text'].tolist()]"
      ],
      "metadata": {
        "id": "tMOZD7eGWFgL"
      },
      "execution_count": null,
      "outputs": []
    },
    {
      "cell_type": "code",
      "source": [
        "DIM = 100\n",
        "word_vec_model = gensim.models.Word2Vec(sentences=X, vector_size=DIM, window = 10, min_count=1)"
      ],
      "metadata": {
        "id": "_MyIjnnQWFiW"
      },
      "execution_count": null,
      "outputs": []
    },
    {
      "cell_type": "code",
      "source": [
        "len(word_vec_model.wv)"
      ],
      "metadata": {
        "colab": {
          "base_uri": "https://localhost:8080/"
        },
        "id": "gRdFq0EvYdNG",
        "outputId": "21c60de9-a1d5-4ca2-8805-efb6455562d7"
      },
      "execution_count": null,
      "outputs": [
        {
          "output_type": "execute_result",
          "data": {
            "text/plain": [
              "231872"
            ]
          },
          "metadata": {},
          "execution_count": 187
        }
      ]
    },
    {
      "cell_type": "code",
      "source": [
        "word_vec_model.wv['love']\n"
      ],
      "metadata": {
        "colab": {
          "base_uri": "https://localhost:8080/"
        },
        "id": "6W1POsbvYdRA",
        "outputId": "56728699-13ad-45d5-efb0-8336ef91cf5f"
      },
      "execution_count": null,
      "outputs": [
        {
          "output_type": "execute_result",
          "data": {
            "text/plain": [
              "array([ 2.6976178 ,  1.4357743 ,  1.4341121 , -0.55031025, -0.12811744,\n",
              "        0.48897016,  0.3887545 ,  4.2663198 , -0.18120961,  3.096972  ,\n",
              "       -0.13435209, -2.7342272 , -3.1758988 , -2.2817073 ,  0.54294604,\n",
              "       -0.43476483, -1.3440219 ,  1.6195626 ,  2.5629847 , -1.2522465 ,\n",
              "       -4.5039606 ,  0.3428494 ,  1.1017535 ,  4.3186154 , -3.111844  ,\n",
              "        3.206366  ,  0.42404318, -1.0825512 , -1.743435  , -2.751963  ,\n",
              "        0.7988525 , -1.1867093 ,  1.9568694 ,  1.3426847 , -0.6526698 ,\n",
              "       -0.04245647,  0.48879126,  0.85688347,  0.06230906, -1.8150402 ,\n",
              "       -0.97976047, -4.088611  , -4.35651   ,  1.0981076 , -3.6618478 ,\n",
              "        0.30407098,  5.0606728 , -3.568303  ,  0.4479961 ,  0.91703993,\n",
              "        1.4749577 ,  2.7939172 ,  2.1815708 , -1.3586773 ,  1.6160614 ,\n",
              "        0.8686755 , -3.670396  , -0.045891  , -2.806078  , -0.5564983 ,\n",
              "       -4.4622593 , -4.136083  ,  0.6826583 , -2.316115  ,  2.3361328 ,\n",
              "        1.7443885 ,  1.6547135 ,  4.226828  ,  1.3166412 ,  1.927856  ,\n",
              "        0.6458313 ,  2.936651  ,  1.411555  , -2.3415036 ,  1.2964841 ,\n",
              "       -0.5831721 , -1.4544312 , -2.842783  , -1.9389663 , -1.0816573 ,\n",
              "       -0.33343148, -4.095872  , -4.765357  , -0.66845936,  0.10218778,\n",
              "       -1.4806553 ,  1.2197223 , -1.1746008 ,  1.7130477 , -1.3838677 ,\n",
              "       -0.73013264, -4.1074286 ,  0.20974152,  0.00730813, -1.6876839 ,\n",
              "        1.3996242 ,  1.0047272 ,  0.95552695,  0.08220532, -0.77489656],\n",
              "      dtype=float32)"
            ]
          },
          "metadata": {},
          "execution_count": 191
        }
      ]
    },
    {
      "cell_type": "code",
      "source": [
        "tokenizer = Tokenizer()\n",
        "tokenizer.fit_on_texts(X)"
      ],
      "metadata": {
        "id": "m9hEHcV3YdUA"
      },
      "execution_count": null,
      "outputs": []
    },
    {
      "cell_type": "code",
      "source": [
        "X = tokenizer.texts_to_sequences(X)"
      ],
      "metadata": {
        "id": "N40P3O--YdWT"
      },
      "execution_count": null,
      "outputs": []
    },
    {
      "cell_type": "code",
      "source": [
        "tokenizer.word_index"
      ],
      "metadata": {
        "colab": {
          "base_uri": "https://localhost:8080/"
        },
        "id": "HgrDMCC0YdYp",
        "outputId": "348d2a9e-f0a7-44c6-8c2d-385e87d915fc"
      },
      "execution_count": null,
      "outputs": [
        {
          "output_type": "execute_result",
          "data": {
            "text/plain": [
              "{'the': 1,\n",
              " 'to': 2,\n",
              " 'of': 3,\n",
              " 'a': 4,\n",
              " 'and': 5,\n",
              " 'in': 6,\n",
              " 'that': 7,\n",
              " 'on': 8,\n",
              " 'for': 9,\n",
              " 's': 10,\n",
              " 'is': 11,\n",
              " 'he': 12,\n",
              " 'said': 13,\n",
              " 'trump': 14,\n",
              " 'it': 15,\n",
              " 'with': 16,\n",
              " 'was': 17,\n",
              " 'as': 18,\n",
              " 'his': 19,\n",
              " 'by': 20,\n",
              " 'has': 21,\n",
              " 'be': 22,\n",
              " 'have': 23,\n",
              " 'not': 24,\n",
              " 'from': 25,\n",
              " 'this': 26,\n",
              " 'at': 27,\n",
              " 'are': 28,\n",
              " 'who': 29,\n",
              " 'us': 30,\n",
              " 'an': 31,\n",
              " 'they': 32,\n",
              " 'i': 33,\n",
              " 'but': 34,\n",
              " 'we': 35,\n",
              " 'would': 36,\n",
              " 'president': 37,\n",
              " 'about': 38,\n",
              " 'will': 39,\n",
              " 'their': 40,\n",
              " 'had': 41,\n",
              " 'you': 42,\n",
              " 't': 43,\n",
              " 'been': 44,\n",
              " 'were': 45,\n",
              " 'people': 46,\n",
              " 'more': 47,\n",
              " 'or': 48,\n",
              " 'after': 49,\n",
              " 'which': 50,\n",
              " 'she': 51,\n",
              " 'her': 52,\n",
              " 'one': 53,\n",
              " 'if': 54,\n",
              " 'its': 55,\n",
              " 'out': 56,\n",
              " 'all': 57,\n",
              " 'what': 58,\n",
              " 'state': 59,\n",
              " 'when': 60,\n",
              " 'new': 61,\n",
              " 'also': 62,\n",
              " 'up': 63,\n",
              " 'there': 64,\n",
              " 'over': 65,\n",
              " 'no': 66,\n",
              " 'house': 67,\n",
              " 'donald': 68,\n",
              " 'our': 69,\n",
              " 'states': 70,\n",
              " 'clinton': 71,\n",
              " 'obama': 72,\n",
              " 'government': 73,\n",
              " 'can': 74,\n",
              " 'just': 75,\n",
              " 'him': 76,\n",
              " 'so': 77,\n",
              " 'than': 78,\n",
              " 'republican': 79,\n",
              " 'other': 80,\n",
              " 'some': 81,\n",
              " 'could': 82,\n",
              " 'white': 83,\n",
              " 'into': 84,\n",
              " 'told': 85,\n",
              " 'united': 86,\n",
              " 'against': 87,\n",
              " 'like': 88,\n",
              " 'do': 89,\n",
              " 'because': 90,\n",
              " 'campaign': 91,\n",
              " 'them': 92,\n",
              " 'news': 93,\n",
              " 'any': 94,\n",
              " 'last': 95,\n",
              " 'election': 96,\n",
              " 'two': 97,\n",
              " 'time': 98,\n",
              " 'now': 99,\n",
              " 'how': 100,\n",
              " 'party': 101,\n",
              " 'first': 102,\n",
              " 'only': 103,\n",
              " 'former': 104,\n",
              " 'hillary': 105,\n",
              " 'should': 106,\n",
              " 'even': 107,\n",
              " 'being': 108,\n",
              " 'year': 109,\n",
              " 'while': 110,\n",
              " 'country': 111,\n",
              " 'video': 112,\n",
              " 'did': 113,\n",
              " 'before': 114,\n",
              " 'years': 115,\n",
              " 'during': 116,\n",
              " 'many': 117,\n",
              " 'media': 118,\n",
              " 'security': 119,\n",
              " 'may': 120,\n",
              " 'most': 121,\n",
              " 'say': 122,\n",
              " 'political': 123,\n",
              " 'national': 124,\n",
              " 'police': 125,\n",
              " 'get': 126,\n",
              " 'law': 127,\n",
              " 'made': 128,\n",
              " 'court': 129,\n",
              " 'make': 130,\n",
              " 'those': 131,\n",
              " 'american': 132,\n",
              " 'republicans': 133,\n",
              " 'since': 134,\n",
              " 'going': 135,\n",
              " 'where': 136,\n",
              " 'percent': 137,\n",
              " 'trumps': 138,\n",
              " 'bill': 139,\n",
              " 'presidential': 140,\n",
              " 'under': 141,\n",
              " 'very': 142,\n",
              " 'back': 143,\n",
              " 'these': 144,\n",
              " 'says': 145,\n",
              " 'russia': 146,\n",
              " 'north': 147,\n",
              " 'senate': 148,\n",
              " 'support': 149,\n",
              " 'democratic': 150,\n",
              " 'administration': 151,\n",
              " 'vote': 152,\n",
              " 'america': 153,\n",
              " 'down': 154,\n",
              " 'week': 155,\n",
              " 'between': 156,\n",
              " 'including': 157,\n",
              " 'group': 158,\n",
              " 'then': 159,\n",
              " 'know': 160,\n",
              " 'officials': 161,\n",
              " 'think': 162,\n",
              " 'according': 163,\n",
              " 'way': 164,\n",
              " 'take': 165,\n",
              " 'public': 166,\n",
              " 'office': 167,\n",
              " 'federal': 168,\n",
              " 'military': 169,\n",
              " 'such': 170,\n",
              " 'my': 171,\n",
              " 'foreign': 172,\n",
              " 'called': 173,\n",
              " 're': 174,\n",
              " 'via': 175,\n",
              " 'right': 176,\n",
              " 'million': 177,\n",
              " 'world': 178,\n",
              " 'statement': 179,\n",
              " 'department': 180,\n",
              " 'washington': 181,\n",
              " 'want': 182,\n",
              " 'saying': 183,\n",
              " 'tax': 184,\n",
              " 'don': 185,\n",
              " 'well': 186,\n",
              " 'see': 187,\n",
              " 'here': 188,\n",
              " 'congress': 189,\n",
              " 'still': 190,\n",
              " 'russian': 191,\n",
              " 'tuesday': 192,\n",
              " 'both': 193,\n",
              " 'your': 194,\n",
              " 'much': 195,\n",
              " 'democrats': 196,\n",
              " 'image': 197,\n",
              " 'another': 198,\n",
              " 'minister': 199,\n",
              " 'day': 200,\n",
              " 'women': 201,\n",
              " 'part': 202,\n",
              " 'wednesday': 203,\n",
              " 'go': 204,\n",
              " 'work': 205,\n",
              " 'through': 206,\n",
              " 'china': 207,\n",
              " 'policy': 208,\n",
              " 'friday': 209,\n",
              " 'thursday': 210,\n",
              " 'asked': 211,\n",
              " 'war': 212,\n",
              " 'own': 213,\n",
              " 'black': 214,\n",
              " 'deal': 215,\n",
              " 'rights': 216,\n",
              " 'off': 217,\n",
              " 'city': 218,\n",
              " 'official': 219,\n",
              " 'secretary': 220,\n",
              " 'why': 221,\n",
              " 'monday': 222,\n",
              " '2016': 223,\n",
              " 'americans': 224,\n",
              " 'committee': 225,\n",
              " 'next': 226,\n",
              " 'me': 227,\n",
              " 'help': 228,\n",
              " 'general': 229,\n",
              " 'need': 230,\n",
              " 'korea': 231,\n",
              " 'three': 232,\n",
              " 'whether': 233,\n",
              " 'leader': 234,\n",
              " 'case': 235,\n",
              " 'senator': 236,\n",
              " 'never': 237,\n",
              " 'show': 238,\n",
              " 'man': 239,\n",
              " 'around': 240,\n",
              " 'york': 241,\n",
              " 'does': 242,\n",
              " 'order': 243,\n",
              " 'fbi': 244,\n",
              " 'members': 245,\n",
              " 'use': 246,\n",
              " 'candidate': 247,\n",
              " 'report': 248,\n",
              " 'same': 249,\n",
              " 'meeting': 250,\n",
              " 'took': 251,\n",
              " 'good': 252,\n",
              " 'come': 253,\n",
              " 'every': 254,\n",
              " 'iran': 255,\n",
              " 'end': 256,\n",
              " 'left': 257,\n",
              " 'reuters': 258,\n",
              " 'without': 259,\n",
              " 'power': 260,\n",
              " 'used': 261,\n",
              " 'really': 262,\n",
              " 'top': 263,\n",
              " 'twitter': 264,\n",
              " 'attack': 265,\n",
              " 'put': 266,\n",
              " 'investigation': 267,\n",
              " 'intelligence': 268,\n",
              " 'times': 269,\n",
              " 'countries': 270,\n",
              " 'justice': 271,\n",
              " 'money': 272,\n",
              " 'nuclear': 273,\n",
              " 'syria': 274,\n",
              " 'change': 275,\n",
              " 'voters': 276,\n",
              " 'plan': 277,\n",
              " 'trade': 278,\n",
              " 'month': 279,\n",
              " 'information': 280,\n",
              " 'leaders': 281,\n",
              " 'south': 282,\n",
              " 'family': 283,\n",
              " 'speech': 284,\n",
              " 'decision': 285,\n",
              " 'business': 286,\n",
              " 'international': 287,\n",
              " 'groups': 288,\n",
              " 'reported': 289,\n",
              " 'fact': 290,\n",
              " 'days': 291,\n",
              " 'interview': 292,\n",
              " 'long': 293,\n",
              " 'already': 294,\n",
              " 'director': 295,\n",
              " 'several': 296,\n",
              " 'story': 297,\n",
              " 'again': 298,\n",
              " 'far': 299,\n",
              " 'too': 300,\n",
              " 'conservative': 301,\n",
              " 'fox': 302,\n",
              " 'chief': 303,\n",
              " 'likely': 304,\n",
              " 'must': 305,\n",
              " 'health': 306,\n",
              " 'call': 307,\n",
              " 'border': 308,\n",
              " 'something': 309,\n",
              " 'john': 310,\n",
              " 'place': 311,\n",
              " 'immigration': 312,\n",
              " 'months': 313,\n",
              " 'clear': 314,\n",
              " 'supporters': 315,\n",
              " 'agency': 316,\n",
              " 'social': 317,\n",
              " 'home': 318,\n",
              " 'islamic': 319,\n",
              " 'among': 320,\n",
              " 'watch': 321,\n",
              " 'sanders': 322,\n",
              " 'move': 323,\n",
              " 'press': 324,\n",
              " 'post': 325,\n",
              " 'believe': 326,\n",
              " 'however': 327,\n",
              " 'barack': 328,\n",
              " 'got': 329,\n",
              " 'program': 330,\n",
              " 'issue': 331,\n",
              " 'billion': 332,\n",
              " 'won': 333,\n",
              " 'act': 334,\n",
              " 'might': 335,\n",
              " 'children': 336,\n",
              " 'major': 337,\n",
              " 'came': 338,\n",
              " 'muslim': 339,\n",
              " 'recent': 340,\n",
              " 'least': 341,\n",
              " 'sunday': 342,\n",
              " 'killed': 343,\n",
              " 'seen': 344,\n",
              " 'found': 345,\n",
              " 'things': 346,\n",
              " 'number': 347,\n",
              " 'great': 348,\n",
              " 'control': 349,\n",
              " 'trying': 350,\n",
              " 've': 351,\n",
              " 'democrat': 352,\n",
              " 'matter': 353,\n",
              " 'today': 354,\n",
              " 'though': 355,\n",
              " 'didn': 356,\n",
              " 'reporters': 357,\n",
              " 'later': 358,\n",
              " 'win': 359,\n",
              " 'defense': 360,\n",
              " 'm': 361,\n",
              " 'attacks': 362,\n",
              " 'yet': 363,\n",
              " 'economic': 364,\n",
              " 'eu': 365,\n",
              " 'march': 366,\n",
              " 'making': 367,\n",
              " 'spokesman': 368,\n",
              " 'working': 369,\n",
              " 'went': 370,\n",
              " 'executive': 371,\n",
              " 'become': 372,\n",
              " 'actually': 373,\n",
              " 'school': 374,\n",
              " 'look': 375,\n",
              " 'cnn': 376,\n",
              " 'keep': 377,\n",
              " 'stop': 378,\n",
              " 'big': 379,\n",
              " 'free': 380,\n",
              " 'give': 381,\n",
              " 'little': 382,\n",
              " 'nation': 383,\n",
              " 'system': 384,\n",
              " 'legal': 385,\n",
              " 'un': 386,\n",
              " 'set': 387,\n",
              " 'past': 388,\n",
              " 'violence': 389,\n",
              " 'cruz': 390,\n",
              " 'until': 391,\n",
              " 'real': 392,\n",
              " 'himself': 393,\n",
              " 'forces': 394,\n",
              " 'senior': 395,\n",
              " 'earlier': 396,\n",
              " 'away': 397,\n",
              " 'doesn': 398,\n",
              " 'let': 399,\n",
              " 'four': 400,\n",
              " 'thing': 401,\n",
              " 'point': 402,\n",
              " 'added': 403,\n",
              " 'governor': 404,\n",
              " 'talks': 405,\n",
              " 'member': 406,\n",
              " 'doing': 407,\n",
              " 'lawmakers': 408,\n",
              " 'nothing': 409,\n",
              " 'january': 410,\n",
              " 'comment': 411,\n",
              " 'illegal': 412,\n",
              " 'sanctions': 413,\n",
              " 'woman': 414,\n",
              " 'ever': 415,\n",
              " 'wall': 416,\n",
              " 'few': 417,\n",
              " 'opposition': 418,\n",
              " 'head': 419,\n",
              " 'european': 420,\n",
              " 'local': 421,\n",
              " 'taking': 422,\n",
              " 'force': 423,\n",
              " 'nations': 424,\n",
              " 'known': 425,\n",
              " 'issues': 426,\n",
              " 'human': 427,\n",
              " 'nominee': 428,\n",
              " 'following': 429,\n",
              " 'july': 430,\n",
              " 'prime': 431,\n",
              " 'companies': 432,\n",
              " 'possible': 433,\n",
              " 'gun': 434,\n",
              " 'held': 435,\n",
              " 'gop': 436,\n",
              " 'attorney': 437,\n",
              " 'care': 438,\n",
              " 'supreme': 439,\n",
              " 'wants': 440,\n",
              " 'action': 441,\n",
              " 'across': 442,\n",
              " '2015': 443,\n",
              " 'judge': 444,\n",
              " 'team': 445,\n",
              " 'released': 446,\n",
              " 'pay': 447,\n",
              " 'person': 448,\n",
              " 'expected': 449,\n",
              " 'union': 450,\n",
              " 'men': 451,\n",
              " 'continue': 452,\n",
              " 'job': 453,\n",
              " 'community': 454,\n",
              " 'better': 455,\n",
              " 'company': 456,\n",
              " 'enough': 457,\n",
              " 'others': 458,\n",
              " 'given': 459,\n",
              " 'high': 460,\n",
              " 'night': 461,\n",
              " 'once': 462,\n",
              " 'legislation': 463,\n",
              " 'evidence': 464,\n",
              " 'ban': 465,\n",
              " 'financial': 466,\n",
              " '10': 467,\n",
              " 'response': 468,\n",
              " 'history': 469,\n",
              " 'reports': 470,\n",
              " 'taken': 471,\n",
              " 'source': 472,\n",
              " 'budget': 473,\n",
              " 'process': 474,\n",
              " 'question': 475,\n",
              " 'face': 476,\n",
              " 'open': 477,\n",
              " 'images': 478,\n",
              " 'close': 479,\n",
              " 'fight': 480,\n",
              " 'done': 481,\n",
              " 'wrote': 482,\n",
              " 'debate': 483,\n",
              " '20': 484,\n",
              " 'special': 485,\n",
              " 'plans': 486,\n",
              " 'important': 487,\n",
              " 'life': 488,\n",
              " 'syrian': 489,\n",
              " 'course': 490,\n",
              " 'june': 491,\n",
              " 'having': 492,\n",
              " 'university': 493,\n",
              " 'refugees': 494,\n",
              " 'anyone': 495,\n",
              " 'lot': 496,\n",
              " 'race': 497,\n",
              " 'run': 498,\n",
              " 'majority': 499,\n",
              " 'private': 500,\n",
              " 'email': 501,\n",
              " 'iraq': 502,\n",
              " 'using': 503,\n",
              " 'second': 504,\n",
              " 'death': 505,\n",
              " 'air': 506,\n",
              " 'crisis': 507,\n",
              " 'putin': 508,\n",
              " 'staff': 509,\n",
              " 'despite': 510,\n",
              " 'conference': 511,\n",
              " 'saturday': 512,\n",
              " 'further': 513,\n",
              " 'comments': 514,\n",
              " 'november': 515,\n",
              " 'anything': 516,\n",
              " 'efforts': 517,\n",
              " 'behind': 518,\n",
              " 'accused': 519,\n",
              " 'along': 520,\n",
              " 'lives': 521,\n",
              " 'ago': 522,\n",
              " 'able': 523,\n",
              " 'ryan': 524,\n",
              " 'mexico': 525,\n",
              " 'best': 526,\n",
              " 'saudi': 527,\n",
              " '1': 528,\n",
              " 'agreement': 529,\n",
              " 'mr': 530,\n",
              " 'role': 531,\n",
              " 'early': 532,\n",
              " 'find': 533,\n",
              " 'full': 534,\n",
              " 'future': 535,\n",
              " 'am': 536,\n",
              " 'less': 537,\n",
              " 'region': 538,\n",
              " 'lead': 539,\n",
              " 'instead': 540,\n",
              " 'letter': 541,\n",
              " 'comes': 542,\n",
              " 'council': 543,\n",
              " 'weeks': 544,\n",
              " 'five': 545,\n",
              " 'jobs': 546,\n",
              " 'current': 547,\n",
              " 'within': 548,\n",
              " 'due': 549,\n",
              " 'someone': 550,\n",
              " 'civil': 551,\n",
              " 'visit': 552,\n",
              " 'facebook': 553,\n",
              " 'calling': 554,\n",
              " 'sure': 555,\n",
              " 'sources': 556,\n",
              " 'comey': 557,\n",
              " 'service': 558,\n",
              " 'hard': 559,\n",
              " 'coalition': 560,\n",
              " 'students': 561,\n",
              " 'getting': 562,\n",
              " 'texas': 563,\n",
              " 'live': 564,\n",
              " 'name': 565,\n",
              " 'britain': 566,\n",
              " 'rules': 567,\n",
              " 'center': 568,\n",
              " 'young': 569,\n",
              " 'congressional': 570,\n",
              " 'votes': 571,\n",
              " 'israel': 572,\n",
              " 'economy': 573,\n",
              " 'coming': 574,\n",
              " 'effort': 575,\n",
              " 'll': 576,\n",
              " 'elections': 577,\n",
              " 'calls': 578,\n",
              " 'muslims': 579,\n",
              " 'candidates': 580,\n",
              " 'emails': 581,\n",
              " 'announced': 582,\n",
              " 'weapons': 583,\n",
              " 'army': 584,\n",
              " 'global': 585,\n",
              " 'paul': 586,\n",
              " 'thousands': 587,\n",
              " 'ties': 588,\n",
              " 'line': 589,\n",
              " 'healthcare': 590,\n",
              " 'citizens': 591,\n",
              " 'event': 592,\n",
              " 'running': 593,\n",
              " 'chairman': 594,\n",
              " 'nearly': 595,\n",
              " 'climate': 596,\n",
              " 'sent': 597,\n",
              " 'talk': 598,\n",
              " '8': 599,\n",
              " 'obamacare': 600,\n",
              " 'racist': 601,\n",
              " 'fake': 602,\n",
              " 'claims': 603,\n",
              " 'street': 604,\n",
              " '2014': 605,\n",
              " 'allow': 606,\n",
              " 'rule': 607,\n",
              " 'daily': 608,\n",
              " 'capital': 609,\n",
              " 'poll': 610,\n",
              " 'position': 611,\n",
              " 'each': 612,\n",
              " 'workers': 613,\n",
              " 'december': 614,\n",
              " 'whose': 615,\n",
              " 'middle': 616,\n",
              " 'ruling': 617,\n",
              " 'led': 618,\n",
              " 'october': 619,\n",
              " 'hold': 620,\n",
              " 'wanted': 621,\n",
              " 'tell': 622,\n",
              " 'needs': 623,\n",
              " 'message': 624,\n",
              " 'latest': 625,\n",
              " 'outside': 626,\n",
              " 'april': 627,\n",
              " 'everyone': 628,\n",
              " 'late': 629,\n",
              " 'threat': 630,\n",
              " 'authorities': 631,\n",
              " 'gave': 632,\n",
              " 'east': 633,\n",
              " 'liberal': 634,\n",
              " 'began': 635,\n",
              " 'turkey': 636,\n",
              " 'problem': 637,\n",
              " 'florida': 638,\n",
              " 'makes': 639,\n",
              " 'bad': 640,\n",
              " 'showed': 641,\n",
              " 'reform': 642,\n",
              " 'politics': 643,\n",
              " 'officers': 644,\n",
              " '15': 645,\n",
              " 'leave': 646,\n",
              " 'rally': 647,\n",
              " 'immigrants': 648,\n",
              " 'bush': 649,\n",
              " 'd': 650,\n",
              " 'september': 651,\n",
              " 'criminal': 652,\n",
              " 'questions': 653,\n",
              " 'voting': 654,\n",
              " 'failed': 655,\n",
              " 'means': 656,\n",
              " 'organization': 657,\n",
              " 'august': 658,\n",
              " 'isn': 659,\n",
              " 'start': 660,\n",
              " 'representatives': 661,\n",
              " 'relations': 662,\n",
              " 'meet': 663,\n",
              " 'immediately': 664,\n",
              " 'reason': 665,\n",
              " 'peace': 666,\n",
              " 'lost': 667,\n",
              " 'list': 668,\n",
              " 'words': 669,\n",
              " 'parliament': 670,\n",
              " 'together': 671,\n",
              " 'cut': 672,\n",
              " 'release': 673,\n",
              " 'access': 674,\n",
              " 'speaking': 675,\n",
              " 'policies': 676,\n",
              " 'services': 677,\n",
              " 'hope': 678,\n",
              " 'stand': 679,\n",
              " 'germany': 680,\n",
              " 'funding': 681,\n",
              " 'february': 682,\n",
              " 'different': 683,\n",
              " 'rather': 684,\n",
              " 'central': 685,\n",
              " 'conservatives': 686,\n",
              " 'agencies': 687,\n",
              " 'george': 688,\n",
              " '2': 689,\n",
              " 'ahead': 690,\n",
              " 'spending': 691,\n",
              " 'based': 692,\n",
              " 'tried': 693,\n",
              " 'allies': 694,\n",
              " 'strong': 695,\n",
              " 'ministry': 696,\n",
              " 'read': 697,\n",
              " 'laws': 698,\n",
              " 'sexual': 699,\n",
              " 'planned': 700,\n",
              " 'almost': 701,\n",
              " 'try': 702,\n",
              " '2017': 703,\n",
              " 'millions': 704,\n",
              " 'cannot': 705,\n",
              " 'thought': 706,\n",
              " 'received': 707,\n",
              " 'oil': 708,\n",
              " 'six': 709,\n",
              " 'recently': 710,\n",
              " 'allowed': 711,\n",
              " 'morning': 712,\n",
              " 'host': 713,\n",
              " '30': 714,\n",
              " 'elected': 715,\n",
              " 'protect': 716,\n",
              " 'idea': 717,\n",
              " 'shows': 718,\n",
              " 'enforcement': 719,\n",
              " 'bring': 720,\n",
              " 'shooting': 721,\n",
              " 'charges': 722,\n",
              " 'decided': 723,\n",
              " 'missile': 724,\n",
              " 'old': 725,\n",
              " 'fire': 726,\n",
              " 'key': 727,\n",
              " 'room': 728,\n",
              " 'europe': 729,\n",
              " 'concerns': 730,\n",
              " 'provide': 731,\n",
              " 'parties': 732,\n",
              " 'chinese': 733,\n",
              " 'entire': 734,\n",
              " 'often': 735,\n",
              " 'talking': 736,\n",
              " 'met': 737,\n",
              " 'always': 738,\n",
              " 'involved': 739,\n",
              " 'near': 740,\n",
              " 'situation': 741,\n",
              " 'hate': 742,\n",
              " 'obamas': 743,\n",
              " 'energy': 744,\n",
              " 'happened': 745,\n",
              " 'officer': 746,\n",
              " 'district': 747,\n",
              " 'kind': 748,\n",
              " '3': 749,\n",
              " 'shot': 750,\n",
              " 'bank': 751,\n",
              " 'allegations': 752,\n",
              " 'denied': 753,\n",
              " 'tweet': 754,\n",
              " 'everything': 755,\n",
              " 'presidency': 756,\n",
              " 'california': 757,\n",
              " 'small': 758,\n",
              " 'movement': 759,\n",
              " 'james': 760,\n",
              " 'looking': 761,\n",
              " 'terrorist': 762,\n",
              " 'vice': 763,\n",
              " 'century': 764,\n",
              " 'travel': 765,\n",
              " 'needed': 766,\n",
              " 'arrested': 767,\n",
              " 'myanmar': 768,\n",
              " 'freedom': 769,\n",
              " 'especially': 770,\n",
              " 'agreed': 771,\n",
              " 'side': 772,\n",
              " 'voted': 773,\n",
              " 'include': 774,\n",
              " 'water': 775,\n",
              " 'return': 776,\n",
              " 'bernie': 777,\n",
              " 'nomination': 778,\n",
              " 'hours': 779,\n",
              " 'large': 780,\n",
              " 'protesters': 781,\n",
              " 'documents': 782,\n",
              " 'area': 783,\n",
              " 'potential': 784,\n",
              " 'industry': 785,\n",
              " 'crime': 786,\n",
              " 'korean': 787,\n",
              " 'data': 788,\n",
              " 'request': 789,\n",
              " 'british': 790,\n",
              " 'west': 791,\n",
              " '12': 792,\n",
              " 'themselves': 793,\n",
              " 'market': 794,\n",
              " 'seems': 795,\n",
              " 'although': 796,\n",
              " 'fired': 797,\n",
              " 'representative': 798,\n",
              " 'personal': 799,\n",
              " 'fighting': 800,\n",
              " 'county': 801,\n",
              " 'hearing': 802,\n",
              " 'claim': 803,\n",
              " 'adviser': 804,\n",
              " 'polls': 805,\n",
              " 'wife': 806,\n",
              " 'hit': 807,\n",
              " 'western': 808,\n",
              " 'cases': 809,\n",
              " '2012': 810,\n",
              " 'adding': 811,\n",
              " 'actions': 812,\n",
              " 'foundation': 813,\n",
              " 'either': 814,\n",
              " 'insurance': 815,\n",
              " 'confirmed': 816,\n",
              " 'worked': 817,\n",
              " 'true': 818,\n",
              " 'interest': 819,\n",
              " 'serious': 820,\n",
              " 'decades': 821,\n",
              " 'pressure': 822,\n",
              " 'wrong': 823,\n",
              " 'forward': 824,\n",
              " 'alleged': 825,\n",
              " 'building': 826,\n",
              " 'step': 827,\n",
              " '11': 828,\n",
              " 'front': 829,\n",
              " 'term': 830,\n",
              " 'realdonaldtrump': 831,\n",
              " 'commission': 832,\n",
              " 'address': 833,\n",
              " '5': 834,\n",
              " 'leading': 835,\n",
              " 'details': 836,\n",
              " 'j': 837,\n",
              " 'spoke': 838,\n",
              " 'claimed': 839,\n",
              " 'tillerson': 840,\n",
              " 'paid': 841,\n",
              " 'biggest': 842,\n",
              " 'probably': 843,\n",
              " 'nov': 844,\n",
              " 'lawyer': 845,\n",
              " 'love': 846,\n",
              " 'passed': 847,\n",
              " 'college': 848,\n",
              " 'continued': 849,\n",
              " 'clearly': 850,\n",
              " 'review': 851,\n",
              " '4': 852,\n",
              " 'feel': 853,\n",
              " 'board': 854,\n",
              " 'truth': 855,\n",
              " 'main': 856,\n",
              " 'families': 857,\n",
              " 'appeared': 858,\n",
              " 'final': 859,\n",
              " 'primary': 860,\n",
              " 'victory': 861,\n",
              " 'ted': 862,\n",
              " 'soon': 863,\n",
              " 'moscow': 864,\n",
              " 'leadership': 865,\n",
              " 'michael': 866,\n",
              " 'son': 867,\n",
              " 'mean': 868,\n",
              " 'protest': 869,\n",
              " 'father': 870,\n",
              " 'mike': 871,\n",
              " 'taxes': 872,\n",
              " 'turn': 873,\n",
              " 'terrorism': 874,\n",
              " 'network': 875,\n",
              " 'dont': 876,\n",
              " 'aid': 877,\n",
              " 'record': 878,\n",
              " 'brought': 879,\n",
              " 'dollars': 880,\n",
              " 'sessions': 881,\n",
              " 'declined': 882,\n",
              " 'cia': 883,\n",
              " 'result': 884,\n",
              " 'deputy': 885,\n",
              " 'wasn': 886,\n",
              " 'simply': 887,\n",
              " 'goes': 888,\n",
              " 'toward': 889,\n",
              " 'points': 890,\n",
              " 'remarks': 891,\n",
              " 'turned': 892,\n",
              " 'issued': 893,\n",
              " 'sign': 894,\n",
              " 'became': 895,\n",
              " 'started': 896,\n",
              " 'independence': 897,\n",
              " 'spent': 898,\n",
              " 'arabia': 899,\n",
              " 'protests': 900,\n",
              " 'pence': 901,\n",
              " 'flynn': 902,\n",
              " 'david': 903,\n",
              " 'posted': 904,\n",
              " 'included': 905,\n",
              " 'mayor': 906,\n",
              " 'agenda': 907,\n",
              " 'signed': 908,\n",
              " 'secret': 909,\n",
              " 'view': 910,\n",
              " 'isis': 911,\n",
              " 'religious': 912,\n",
              " 'influence': 913,\n",
              " 'attempt': 914,\n",
              " '25': 915,\n",
              " 'mccain': 916,\n",
              " 'article': 917,\n",
              " 'push': 918,\n",
              " 'town': 919,\n",
              " 'popular': 920,\n",
              " 'previously': 921,\n",
              " 'mark': 922,\n",
              " 'rubio': 923,\n",
              " 'forced': 924,\n",
              " 'german': 925,\n",
              " 'raised': 926,\n",
              " 'merkel': 927,\n",
              " 'below': 928,\n",
              " 'pass': 929,\n",
              " 'fund': 930,\n",
              " 'relationship': 931,\n",
              " 'guy': 932,\n",
              " 'pretty': 933,\n",
              " 'food': 934,\n",
              " 'child': 935,\n",
              " 'level': 936,\n",
              " '2013': 937,\n",
              " 'giving': 938,\n",
              " 'clintons': 939,\n",
              " 'seeking': 940,\n",
              " 'half': 941,\n",
              " 'al': 942,\n",
              " 'saw': 943,\n",
              " 'militants': 944,\n",
              " 'account': 945,\n",
              " 'website': 946,\n",
              " 'short': 947,\n",
              " 'convention': 948,\n",
              " 'gets': 949,\n",
              " 'speak': 950,\n",
              " 'cost': 951,\n",
              " 'conflict': 952,\n",
              " 'helped': 953,\n",
              " 'debt': 954,\n",
              " 'friends': 955,\n",
              " 'speaker': 956,\n",
              " 'proposed': 957,\n",
              " 'total': 958,\n",
              " 'increase': 959,\n",
              " 'firm': 960,\n",
              " 'hundreds': 961,\n",
              " 'voter': 962,\n",
              " 'ask': 963,\n",
              " 'ambassador': 964,\n",
              " 'reality': 965,\n",
              " 'armed': 966,\n",
              " 'wire': 967,\n",
              " 'described': 968,\n",
              " 'longer': 969,\n",
              " 'repeatedly': 970,\n",
              " 'phone': 971,\n",
              " 'remain': 972,\n",
              " 'created': 973,\n",
              " 'largest': 974,\n",
              " 'regional': 975,\n",
              " 'independent': 976,\n",
              " 'fear': 977,\n",
              " 'areas': 978,\n",
              " 'heard': 979,\n",
              " 'violent': 980,\n",
              " 'constitution': 981,\n",
              " 'discuss': 982,\n",
              " 'tv': 983,\n",
              " 'hand': 984,\n",
              " 'troops': 985,\n",
              " 'changes': 986,\n",
              " 'respond': 987,\n",
              " 'education': 988,\n",
              " 'currently': 989,\n",
              " 'criticized': 990,\n",
              " 'similar': 991,\n",
              " 'funds': 992,\n",
              " 'flag': 993,\n",
              " 'victims': 994,\n",
              " 'brexit': 995,\n",
              " 'build': 996,\n",
              " 'whole': 997,\n",
              " 'crowd': 998,\n",
              " 'senators': 999,\n",
              " 'carolina': 1000,\n",
              " ...}"
            ]
          },
          "metadata": {},
          "execution_count": 196
        }
      ]
    },
    {
      "cell_type": "code",
      "source": [
        "plt.hist([len(x) for x in X], bins = 700)\n",
        "plt.show()"
      ],
      "metadata": {
        "colab": {
          "base_uri": "https://localhost:8080/",
          "height": 447
        },
        "id": "f8vaaxecYdbO",
        "outputId": "19f04d3c-f96e-48cb-8252-7a7e758d3432"
      },
      "execution_count": null,
      "outputs": [
        {
          "output_type": "execute_result",
          "data": {
            "text/plain": [
              "<function matplotlib.pyplot.show(close=None, block=None)>"
            ]
          },
          "metadata": {},
          "execution_count": 197
        },
        {
          "output_type": "display_data",
          "data": {
            "text/plain": [
              "<Figure size 640x480 with 1 Axes>"
            ],
            "image/png": "[encoded data removed]"
          },
          "metadata": {}
        }
      ]
    },
    {
      "cell_type": "code",
      "source": [
        "numbers = np.array([len(x) for x in X])\n",
        "len(numbers[numbers>1000])"
      ],
      "metadata": {
        "colab": {
          "base_uri": "https://localhost:8080/"
        },
        "id": "g0icEZfiYddq",
        "outputId": "dd20c768-32e5-4646-b53a-2511b4915621"
      },
      "execution_count": null,
      "outputs": [
        {
          "output_type": "execute_result",
          "data": {
            "text/plain": [
              "1581"
            ]
          },
          "metadata": {},
          "execution_count": 198
        }
      ]
    },
    {
      "cell_type": "code",
      "source": [
        "maxlen = 1000\n",
        "X = pad_sequences(X, maxlen = maxlen)"
      ],
      "metadata": {
        "id": "11b_w81BYdgP"
      },
      "execution_count": null,
      "outputs": []
    },
    {
      "cell_type": "code",
      "source": [
        "vocab_size = len(tokenizer.word_index) + 1\n",
        "vocab = tokenizer.word_index"
      ],
      "metadata": {
        "id": "CkxGbDMQYdik"
      },
      "execution_count": null,
      "outputs": []
    },
    {
      "cell_type": "code",
      "source": [
        "def get_weight_matrix(model):\n",
        "  weight_matrix = np.zeros((vocab_size, DIM))\n",
        "\n",
        "  for word, i in vocab.items():\n",
        "    weight_matrix[i] = model.wv[word]\n",
        "\n",
        "  return weight_matrix"
      ],
      "metadata": {
        "id": "gE9Hd2eGYdlR"
      },
      "execution_count": null,
      "outputs": []
    },
    {
      "cell_type": "code",
      "source": [
        "embedding_vectors = get_weight_matrix(word_vec_model)"
      ],
      "metadata": {
        "id": "STCx577sYdnq"
      },
      "execution_count": null,
      "outputs": []
    },
    {
      "cell_type": "code",
      "source": [
        "embedding_vectors.shape"
      ],
      "metadata": {
        "colab": {
          "base_uri": "https://localhost:8080/"
        },
        "id": "v49gMWMoYdqX",
        "outputId": "0db7c13c-a378-4da5-9d66-ea67aa9ddba0"
      },
      "execution_count": null,
      "outputs": [
        {
          "output_type": "execute_result",
          "data": {
            "text/plain": [
              "(231873, 100)"
            ]
          },
          "metadata": {},
          "execution_count": 206
        }
      ]
    },
    {
      "cell_type": "code",
      "source": [
        "model = Sequential()\n",
        "model.add(Embedding(vocab_size, output_dim = DIM, weights = [embedding_vectors], input_length=maxlen, trainable = False))\n",
        "model.add(LSTM(units=128))\n",
        "model.add(Dense(1, activation=\"sigmoid\"))\n",
        "model.compile(optimizer='adam', loss=\"binary_crossentropy\", metrics=['acc'])"
      ],
      "metadata": {
        "id": "_yws5WPeYds0"
      },
      "execution_count": null,
      "outputs": []
    },
    {
      "cell_type": "code",
      "source": [
        "model.summary()"
      ],
      "metadata": {
        "colab": {
          "base_uri": "https://localhost:8080/"
        },
        "id": "cJvbL6DOYdvp",
        "outputId": "2bf5e9e2-09b4-4fc8-9069-4379160f6666"
      },
      "execution_count": null,
      "outputs": [
        {
          "output_type": "stream",
          "name": "stdout",
          "text": [
            "Model: \"sequential_1\"\n",
            "_________________________________________________________________\n",
            " Layer (type)                Output Shape              Param #   \n",
            "=================================================================\n",
            " embedding_1 (Embedding)     (None, 1000, 100)         23187300  \n",
            "                                                                 \n",
            " lstm_1 (LSTM)               (None, 128)               117248    \n",
            "                                                                 \n",
            " dense_1 (Dense)             (None, 1)                 129       \n",
            "                                                                 \n",
            "=================================================================\n",
            "Total params: 23,304,677\n",
            "Trainable params: 117,377\n",
            "Non-trainable params: 23,187,300\n",
            "_________________________________________________________________\n"
          ]
        }
      ]
    },
    {
      "cell_type": "code",
      "source": [
        "X_train, X_test, y_train, y_test = train_test_split(X,y)"
      ],
      "metadata": {
        "id": "d3xFMVCiYdzk"
      },
      "execution_count": null,
      "outputs": []
    },
    {
      "cell_type": "code",
      "source": [
        "model.fit(X_train, y_train, validation_split=0.3, epochs=6)"
      ],
      "metadata": {
        "colab": {
          "base_uri": "https://localhost:8080/"
        },
        "id": "ySiKefvuYd1W",
        "outputId": "332b306b-9c0b-4e83-bb5c-f3b79d2d4957"
      },
      "execution_count": null,
      "outputs": [
        {
          "output_type": "stream",
          "name": "stdout",
          "text": [
            "Epoch 1/6\n",
            "737/737 [==============================] - 1350s 2s/step - loss: 0.1530 - acc: 0.9423 - val_loss: 0.0910 - val_acc: 0.9688\n",
            "Epoch 2/6\n",
            "737/737 [==============================] - 1370s 2s/step - loss: 0.0522 - acc: 0.9834 - val_loss: 0.1411 - val_acc: 0.9482\n",
            "Epoch 3/6\n",
            "737/737 [==============================] - 1372s 2s/step - loss: 0.0305 - acc: 0.9899 - val_loss: 0.0311 - val_acc: 0.9897\n",
            "Epoch 4/6\n",
            "737/737 [==============================] - 1376s 2s/step - loss: 0.0195 - acc: 0.9938 - val_loss: 0.0269 - val_acc: 0.9923\n",
            "Epoch 5/6\n",
            "737/737 [==============================] - 1375s 2s/step - loss: 0.0111 - acc: 0.9971 - val_loss: 0.0319 - val_acc: 0.9898\n",
            "Epoch 6/6\n",
            "737/737 [==============================] - 1435s 2s/step - loss: 0.0055 - acc: 0.9986 - val_loss: 0.0215 - val_acc: 0.9938\n"
          ]
        },
        {
          "output_type": "execute_result",
          "data": {
            "text/plain": [
              "<keras.callbacks.History at 0x7f4d05d919f0>"
            ]
          },
          "metadata": {},
          "execution_count": 211
        }
      ]
    },
    {
      "cell_type": "code",
      "source": [
        "y_pred = (model.predict(X_test) >=0.5).astype(int)"
      ],
      "metadata": {
        "colab": {
          "base_uri": "https://localhost:8080/"
        },
        "id": "lNTSkdVZYd3V",
        "outputId": "93aae127-145f-48fd-cf1a-dca20481f1bd"
      },
      "execution_count": null,
      "outputs": [
        {
          "output_type": "stream",
          "name": "stdout",
          "text": [
            "351/351 [==============================] - 199s 565ms/step\n"
          ]
        }
      ]
    },
    {
      "cell_type": "code",
      "source": [
        "accuracy_score(y_test, y_pred)"
      ],
      "metadata": {
        "colab": {
          "base_uri": "https://localhost:8080/"
        },
        "id": "8zmUU_xcYd5s",
        "outputId": "3f59912c-095b-450f-c07b-de8b9b369354"
      },
      "execution_count": null,
      "outputs": [
        {
          "output_type": "execute_result",
          "data": {
            "text/plain": [
              "0.9940311804008909"
            ]
          },
          "metadata": {},
          "execution_count": 213
        }
      ]
    },
    {
      "cell_type": "code",
      "source": [
        "print(classification_report(y_test,y_pred))"
      ],
      "metadata": {
        "colab": {
          "base_uri": "https://localhost:8080/"
        },
        "id": "zB21vRoUYd99",
        "outputId": "d0f9d910-b635-42da-d64f-711ce529a7f5"
      },
      "execution_count": null,
      "outputs": [
        {
          "output_type": "stream",
          "name": "stdout",
          "text": [
            "              precision    recall  f1-score   support\n",
            "\n",
            "           0       1.00      0.99      0.99      5895\n",
            "           1       0.99      1.00      0.99      5330\n",
            "\n",
            "    accuracy                           0.99     11225\n",
            "   macro avg       0.99      0.99      0.99     11225\n",
            "weighted avg       0.99      0.99      0.99     11225\n",
            "\n"
          ]
        }
      ]
    },
    {
      "cell_type": "code",
      "source": [
        "x = [\"This is a news\"]"
      ],
      "metadata": {
        "id": "t2H56giAGW3T"
      },
      "execution_count": null,
      "outputs": []
    },
    {
      "cell_type": "code",
      "source": [
        "X_test"
      ],
      "metadata": {
        "colab": {
          "base_uri": "https://localhost:8080/"
        },
        "id": "JAuNtKhRGW_l",
        "outputId": "32612cd2-d337-4ced-83cb-031426985d3b"
      },
      "execution_count": null,
      "outputs": [
        {
          "output_type": "execute_result",
          "data": {
            "text/plain": [
              "array([[   0,    0,    0, ...,    3,   40,  245],\n",
              "       [   0,    0,    0, ...,    8,    1,  592],\n",
              "       [   0,    0,    0, ...,  175,   30, 1889],\n",
              "       ...,\n",
              "       [   0,    0,    0, ...,  197,  175, 3827],\n",
              "       [   0,    0,    0, ...,    9,  734,  297],\n",
              "       [   0,    0,    0, ..., 4872,    1,  308]], dtype=int32)"
            ]
          },
          "metadata": {},
          "execution_count": 216
        }
      ]
    },
    {
      "cell_type": "code",
      "source": [
        "x = [\"This is a news\"]\n",
        "x = tokenizer.texts_to_sequences(x)\n",
        "x = pad_sequences(x, maxlen=maxlen)"
      ],
      "metadata": {
        "id": "9kt69-x8GXGu"
      },
      "execution_count": null,
      "outputs": []
    },
    {
      "cell_type": "code",
      "source": [
        "(model.predict(x) >=0.5).astype(int)"
      ],
      "metadata": {
        "colab": {
          "base_uri": "https://localhost:8080/"
        },
        "id": "0hTuQQ3DIETt",
        "outputId": "eae28047-03b0-4d28-e4b9-f1c8e3f3c17a"
      },
      "execution_count": null,
      "outputs": [
        {
          "output_type": "stream",
          "name": "stdout",
          "text": [
            "1/1 [==============================] - 0s 110ms/step\n"
          ]
        },
        {
          "output_type": "execute_result",
          "data": {
            "text/plain": [
              "array([[0]])"
            ]
          },
          "metadata": {},
          "execution_count": 221
        }
      ]
    },
    {
      "cell_type": "code",
      "source": [
        "#TEST USING YOUR OWN HEADLINE FROM ANY SOURCE\n",
        "x = [\"Former Vice President Mike Pence testified on Thursday to a federal grand jury investigating the aftermath of the 2020 election and the actions of then-President Donald Trump and others, sources familiar with the matter told CNN.\"]\n",
        "x = tokenizer.texts_to_sequences(x)\n",
        "x = pad_sequences(x, maxlen=maxlen)\n",
        "(model.predict(x) >=0.5).astype(int)"
      ],
      "metadata": {
        "colab": {
          "base_uri": "https://localhost:8080/"
        },
        "id": "KB4CcmZAIEeZ",
        "outputId": "3d080ab1-be16-4d2b-989e-24ddcef0b6e8"
      },
      "execution_count": null,
      "outputs": [
        {
          "output_type": "stream",
          "name": "stdout",
          "text": [
            "1/1 [==============================] - 0s 97ms/step\n"
          ]
        },
        {
          "output_type": "execute_result",
          "data": {
            "text/plain": [
              "array([[1]])"
            ]
          },
          "metadata": {},
          "execution_count": 222
        }
      ]
    },
    {
      "cell_type": "code",
      "source": [],
      "metadata": {
        "id": "h-JFerR0IEib"
      },
      "execution_count": null,
      "outputs": []
    },
    {
      "cell_type": "code",
      "source": [],
      "metadata": {
        "id": "IiJFyAuLIEnN"
      },
      "execution_count": null,
      "outputs": []
    }
  ]
}